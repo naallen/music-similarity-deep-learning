{
 "cells": [
  {
   "cell_type": "markdown",
   "metadata": {},
   "source": [
    "# Process and split the raw data\n",
    "\n",
    "This notebook performs processing on the dataset to convert it to a set of similarity pairings between artists. The Last.FM dataset has a list of users, artists, and number of plays for each artist. My method creates a similarity metric between all possible pairings of two artists by calculating the co-occurence of listeners between every artist pairing. That is, how many people have listened to both artists at least once. Then, I use various ways to convert that into a proportion."
   ]
  },
  {
   "cell_type": "code",
   "execution_count": 1,
   "metadata": {},
   "outputs": [],
   "source": [
    "import pandas as pd\n",
    "import numpy as np\n",
    "import json\n",
    "from tqdm import tqdm_notebook \n",
    "from sklearn import preprocessing\n",
    "from sklearn.model_selection import train_test_split\n",
    "from utils import load_json, make_logger\n",
    "import logging\n",
    "\n",
    "params = load_json('params.json')\n",
    "logger = make_logger('gen_split_dataset', 'log/gen_split_dataset.log')"
   ]
  },
  {
   "cell_type": "markdown",
   "metadata": {},
   "source": [
    "## Load and clean the data\n",
    "\n",
    "This part presumes that you have downloaded the dataset at http://mtg.upf.edu/static/datasets/last.fm/lastfm-dataset-360K.tar.gz and extracted the contents to the dataset directory."
   ]
  },
  {
   "cell_type": "code",
   "execution_count": 2,
   "metadata": {},
   "outputs": [
    {
     "name": "stderr",
     "output_type": "stream",
     "text": [
      "Loading Last.FM data...\n",
      "Loaded Last.FM data\n"
     ]
    }
   ],
   "source": [
    "logger.info('Loading Last.FM data...')\n",
    "\n",
    "playscols = ['usersha1', 'mbid', 'artistname', 'plays']\n",
    "playsdf = pd.read_csv('dataset/usersha1-artmbid-artname-plays.tsv', sep='\\t', names=playscols, index_col=False)\n",
    "profilecols = ['usersha1', 'gender', 'age', 'country', 'registration']\n",
    "profiledf = pd.read_csv('dataset/usersha1-profile.tsv', sep='\\t', names=profilecols, index_col=False)\n",
    "df = playsdf.merge(profiledf, on=['usersha1'], how='left')\n",
    "\n",
    "# Clean the data by removing artists without mbid (usually nonsense)\n",
    "# and profiles without registration (also usually nonsense, maybe dataset artifact)\n",
    "# Also delete entries with unknown artists, and artists that only show up once\n",
    "df = df[df['mbid'].notnull() & df['registration'].notnull() \n",
    "        & (df['artistname'] != '[unknown]') & df.duplicated(subset='artistname', keep=False)]\n",
    "\n",
    "logger.info('Loaded Last.FM data')"
   ]
  },
  {
   "cell_type": "code",
   "execution_count": 3,
   "metadata": {},
   "outputs": [
    {
     "data": {
      "text/html": [
       "<div>\n",
       "<style scoped>\n",
       "    .dataframe tbody tr th:only-of-type {\n",
       "        vertical-align: middle;\n",
       "    }\n",
       "\n",
       "    .dataframe tbody tr th {\n",
       "        vertical-align: top;\n",
       "    }\n",
       "\n",
       "    .dataframe thead th {\n",
       "        text-align: right;\n",
       "    }\n",
       "</style>\n",
       "<table border=\"1\" class=\"dataframe\">\n",
       "  <thead>\n",
       "    <tr style=\"text-align: right;\">\n",
       "      <th></th>\n",
       "      <th>usersha1</th>\n",
       "      <th>mbid</th>\n",
       "      <th>artistname</th>\n",
       "      <th>plays</th>\n",
       "      <th>gender</th>\n",
       "      <th>age</th>\n",
       "      <th>country</th>\n",
       "      <th>registration</th>\n",
       "    </tr>\n",
       "  </thead>\n",
       "  <tbody>\n",
       "    <tr>\n",
       "      <th>0</th>\n",
       "      <td>00000c289a1829a808ac09c00daf10bc3c4e223b</td>\n",
       "      <td>3bd73256-3905-4f3a-97e2-8b341527f805</td>\n",
       "      <td>betty blowtorch</td>\n",
       "      <td>2137</td>\n",
       "      <td>f</td>\n",
       "      <td>22.0</td>\n",
       "      <td>Germany</td>\n",
       "      <td>Feb 1, 2007</td>\n",
       "    </tr>\n",
       "    <tr>\n",
       "      <th>1</th>\n",
       "      <td>00000c289a1829a808ac09c00daf10bc3c4e223b</td>\n",
       "      <td>f2fb0ff0-5679-42ec-a55c-15109ce6e320</td>\n",
       "      <td>die Ärzte</td>\n",
       "      <td>1099</td>\n",
       "      <td>f</td>\n",
       "      <td>22.0</td>\n",
       "      <td>Germany</td>\n",
       "      <td>Feb 1, 2007</td>\n",
       "    </tr>\n",
       "    <tr>\n",
       "      <th>2</th>\n",
       "      <td>00000c289a1829a808ac09c00daf10bc3c4e223b</td>\n",
       "      <td>b3ae82c2-e60b-4551-a76d-6620f1b456aa</td>\n",
       "      <td>melissa etheridge</td>\n",
       "      <td>897</td>\n",
       "      <td>f</td>\n",
       "      <td>22.0</td>\n",
       "      <td>Germany</td>\n",
       "      <td>Feb 1, 2007</td>\n",
       "    </tr>\n",
       "    <tr>\n",
       "      <th>3</th>\n",
       "      <td>00000c289a1829a808ac09c00daf10bc3c4e223b</td>\n",
       "      <td>3d6bbeb7-f90e-4d10-b440-e153c0d10b53</td>\n",
       "      <td>elvenking</td>\n",
       "      <td>717</td>\n",
       "      <td>f</td>\n",
       "      <td>22.0</td>\n",
       "      <td>Germany</td>\n",
       "      <td>Feb 1, 2007</td>\n",
       "    </tr>\n",
       "    <tr>\n",
       "      <th>4</th>\n",
       "      <td>00000c289a1829a808ac09c00daf10bc3c4e223b</td>\n",
       "      <td>bbd2ffd7-17f4-4506-8572-c1ea58c3f9a8</td>\n",
       "      <td>juliette &amp; the licks</td>\n",
       "      <td>706</td>\n",
       "      <td>f</td>\n",
       "      <td>22.0</td>\n",
       "      <td>Germany</td>\n",
       "      <td>Feb 1, 2007</td>\n",
       "    </tr>\n",
       "    <tr>\n",
       "      <th>5</th>\n",
       "      <td>00000c289a1829a808ac09c00daf10bc3c4e223b</td>\n",
       "      <td>8bfac288-ccc5-448d-9573-c33ea2aa5c30</td>\n",
       "      <td>red hot chili peppers</td>\n",
       "      <td>691</td>\n",
       "      <td>f</td>\n",
       "      <td>22.0</td>\n",
       "      <td>Germany</td>\n",
       "      <td>Feb 1, 2007</td>\n",
       "    </tr>\n",
       "    <tr>\n",
       "      <th>6</th>\n",
       "      <td>00000c289a1829a808ac09c00daf10bc3c4e223b</td>\n",
       "      <td>6531c8b1-76ea-4141-b270-eb1ac5b41375</td>\n",
       "      <td>magica</td>\n",
       "      <td>545</td>\n",
       "      <td>f</td>\n",
       "      <td>22.0</td>\n",
       "      <td>Germany</td>\n",
       "      <td>Feb 1, 2007</td>\n",
       "    </tr>\n",
       "    <tr>\n",
       "      <th>7</th>\n",
       "      <td>00000c289a1829a808ac09c00daf10bc3c4e223b</td>\n",
       "      <td>21f3573f-10cf-44b3-aeaa-26cccd8448b5</td>\n",
       "      <td>the black dahlia murder</td>\n",
       "      <td>507</td>\n",
       "      <td>f</td>\n",
       "      <td>22.0</td>\n",
       "      <td>Germany</td>\n",
       "      <td>Feb 1, 2007</td>\n",
       "    </tr>\n",
       "    <tr>\n",
       "      <th>8</th>\n",
       "      <td>00000c289a1829a808ac09c00daf10bc3c4e223b</td>\n",
       "      <td>c5db90c4-580d-4f33-b364-fbaa5a3a58b5</td>\n",
       "      <td>the murmurs</td>\n",
       "      <td>424</td>\n",
       "      <td>f</td>\n",
       "      <td>22.0</td>\n",
       "      <td>Germany</td>\n",
       "      <td>Feb 1, 2007</td>\n",
       "    </tr>\n",
       "    <tr>\n",
       "      <th>9</th>\n",
       "      <td>00000c289a1829a808ac09c00daf10bc3c4e223b</td>\n",
       "      <td>0639533a-0402-40ba-b6e0-18b067198b73</td>\n",
       "      <td>lunachicks</td>\n",
       "      <td>403</td>\n",
       "      <td>f</td>\n",
       "      <td>22.0</td>\n",
       "      <td>Germany</td>\n",
       "      <td>Feb 1, 2007</td>\n",
       "    </tr>\n",
       "  </tbody>\n",
       "</table>\n",
       "</div>"
      ],
      "text/plain": [
       "                                   usersha1  \\\n",
       "0  00000c289a1829a808ac09c00daf10bc3c4e223b   \n",
       "1  00000c289a1829a808ac09c00daf10bc3c4e223b   \n",
       "2  00000c289a1829a808ac09c00daf10bc3c4e223b   \n",
       "3  00000c289a1829a808ac09c00daf10bc3c4e223b   \n",
       "4  00000c289a1829a808ac09c00daf10bc3c4e223b   \n",
       "5  00000c289a1829a808ac09c00daf10bc3c4e223b   \n",
       "6  00000c289a1829a808ac09c00daf10bc3c4e223b   \n",
       "7  00000c289a1829a808ac09c00daf10bc3c4e223b   \n",
       "8  00000c289a1829a808ac09c00daf10bc3c4e223b   \n",
       "9  00000c289a1829a808ac09c00daf10bc3c4e223b   \n",
       "\n",
       "                                   mbid               artistname  plays  \\\n",
       "0  3bd73256-3905-4f3a-97e2-8b341527f805          betty blowtorch   2137   \n",
       "1  f2fb0ff0-5679-42ec-a55c-15109ce6e320                die Ärzte   1099   \n",
       "2  b3ae82c2-e60b-4551-a76d-6620f1b456aa        melissa etheridge    897   \n",
       "3  3d6bbeb7-f90e-4d10-b440-e153c0d10b53                elvenking    717   \n",
       "4  bbd2ffd7-17f4-4506-8572-c1ea58c3f9a8     juliette & the licks    706   \n",
       "5  8bfac288-ccc5-448d-9573-c33ea2aa5c30    red hot chili peppers    691   \n",
       "6  6531c8b1-76ea-4141-b270-eb1ac5b41375                   magica    545   \n",
       "7  21f3573f-10cf-44b3-aeaa-26cccd8448b5  the black dahlia murder    507   \n",
       "8  c5db90c4-580d-4f33-b364-fbaa5a3a58b5              the murmurs    424   \n",
       "9  0639533a-0402-40ba-b6e0-18b067198b73               lunachicks    403   \n",
       "\n",
       "  gender   age  country registration  \n",
       "0      f  22.0  Germany  Feb 1, 2007  \n",
       "1      f  22.0  Germany  Feb 1, 2007  \n",
       "2      f  22.0  Germany  Feb 1, 2007  \n",
       "3      f  22.0  Germany  Feb 1, 2007  \n",
       "4      f  22.0  Germany  Feb 1, 2007  \n",
       "5      f  22.0  Germany  Feb 1, 2007  \n",
       "6      f  22.0  Germany  Feb 1, 2007  \n",
       "7      f  22.0  Germany  Feb 1, 2007  \n",
       "8      f  22.0  Germany  Feb 1, 2007  \n",
       "9      f  22.0  Germany  Feb 1, 2007  "
      ]
     },
     "metadata": {},
     "output_type": "display_data"
    },
    {
     "name": "stderr",
     "output_type": "stream",
     "text": [
      "Unique Artists: 133086\n",
      "Unique Users: 358854\n",
      "Entries: 17238522\n"
     ]
    }
   ],
   "source": [
    "# Display data sample and some stats\n",
    "display(df.head(10))\n",
    "logger.info('Unique Artists: {}'.format(len(df['artistname'].unique())))\n",
    "logger.info('Unique Users: {}'.format(len(df['usersha1'].unique())))\n",
    "logger.info('Entries: {}'.format(len(df)))"
   ]
  },
  {
   "cell_type": "markdown",
   "metadata": {},
   "source": [
    "## MusicBrainz ID (MBID) to Artist Mapping"
   ]
  },
  {
   "cell_type": "code",
   "execution_count": 4,
   "metadata": {},
   "outputs": [
    {
     "name": "stderr",
     "output_type": "stream",
     "text": [
      "Loaded mbid_to_artist.csv\n"
     ]
    }
   ],
   "source": [
    "mbid_to_artist = pd.read_csv('dataset/mbid_to_artist.csv', index_col=0)\n",
    "\n",
    "logger.info('Loaded mbid_to_artist.csv')"
   ]
  },
  {
   "cell_type": "markdown",
   "metadata": {},
   "source": [
    "## Only look at the top artists\n",
    "\n",
    "We take the numArtists parameter and look at that many artists, currently set to 1000 (the actual number will be ~950 since we can't get audio samples for every artist). This provides a massive amount of data, while still reasonably covering a very large number of artists. Generating data for the entire dataset would generate a prohibitively large amount of data, and create the potential of overfitting to extremely obscure artists. We do this by taking the previously-generated list of artists, for which we have audio data, and filtering the rest out of the dataset."
   ]
  },
  {
   "cell_type": "code",
   "execution_count": 7,
   "metadata": {},
   "outputs": [
    {
     "name": "stderr",
     "output_type": "stream",
     "text": [
      "Loaded unique_artists.csv\n"
     ]
    },
    {
     "data": {
      "text/html": [
       "<div>\n",
       "<style scoped>\n",
       "    .dataframe tbody tr th:only-of-type {\n",
       "        vertical-align: middle;\n",
       "    }\n",
       "\n",
       "    .dataframe tbody tr th {\n",
       "        vertical-align: top;\n",
       "    }\n",
       "\n",
       "    .dataframe thead th {\n",
       "        text-align: right;\n",
       "    }\n",
       "</style>\n",
       "<table border=\"1\" class=\"dataframe\">\n",
       "  <thead>\n",
       "    <tr style=\"text-align: right;\">\n",
       "      <th></th>\n",
       "      <th>listeners</th>\n",
       "    </tr>\n",
       "  </thead>\n",
       "  <tbody>\n",
       "    <tr>\n",
       "      <th>a74b1b7f-71a5-4011-9441-d0b5e4122711</th>\n",
       "      <td>77253</td>\n",
       "    </tr>\n",
       "    <tr>\n",
       "      <th>b10bbbfc-cf9e-42e0-be17-e2c3e1d2600d</th>\n",
       "      <td>76270</td>\n",
       "    </tr>\n",
       "    <tr>\n",
       "      <th>cc197bad-dc9c-440d-a5b5-d52ba2e14234</th>\n",
       "      <td>66658</td>\n",
       "    </tr>\n",
       "    <tr>\n",
       "      <th>8bfac288-ccc5-448d-9573-c33ea2aa5c30</th>\n",
       "      <td>48926</td>\n",
       "    </tr>\n",
       "    <tr>\n",
       "      <th>9c9f1380-2516-4fc9-a3e6-f9f61941d090</th>\n",
       "      <td>46954</td>\n",
       "    </tr>\n",
       "    <tr>\n",
       "      <th>65f4f0c5-ef9e-490c-aee3-909e7ae6b2ab</th>\n",
       "      <td>45233</td>\n",
       "    </tr>\n",
       "    <tr>\n",
       "      <th>83d91898-7763-47d7-b03b-b92132375c47</th>\n",
       "      <td>44443</td>\n",
       "    </tr>\n",
       "    <tr>\n",
       "      <th>95e1ead9-4d31-4808-a7ac-32c3614c116b</th>\n",
       "      <td>41229</td>\n",
       "    </tr>\n",
       "    <tr>\n",
       "      <th>f59c5520-5f46-4d2c-b2c4-822eabf53419</th>\n",
       "      <td>39774</td>\n",
       "    </tr>\n",
       "    <tr>\n",
       "      <th>cc0b7089-c08d-4c10-b6b0-873582c17fd6</th>\n",
       "      <td>37269</td>\n",
       "    </tr>\n",
       "  </tbody>\n",
       "</table>\n",
       "</div>"
      ],
      "text/plain": [
       "                                      listeners\n",
       "a74b1b7f-71a5-4011-9441-d0b5e4122711      77253\n",
       "b10bbbfc-cf9e-42e0-be17-e2c3e1d2600d      76270\n",
       "cc197bad-dc9c-440d-a5b5-d52ba2e14234      66658\n",
       "8bfac288-ccc5-448d-9573-c33ea2aa5c30      48926\n",
       "9c9f1380-2516-4fc9-a3e6-f9f61941d090      46954\n",
       "65f4f0c5-ef9e-490c-aee3-909e7ae6b2ab      45233\n",
       "83d91898-7763-47d7-b03b-b92132375c47      44443\n",
       "95e1ead9-4d31-4808-a7ac-32c3614c116b      41229\n",
       "f59c5520-5f46-4d2c-b2c4-822eabf53419      39774\n",
       "cc0b7089-c08d-4c10-b6b0-873582c17fd6      37269"
      ]
     },
     "metadata": {},
     "output_type": "display_data"
    }
   ],
   "source": [
    "uniqueartists = pd.read_csv('dataset/uniqueartists.csv', index_col = 0)\n",
    "\n",
    "logger.info('Loaded unique_artists.csv')\n",
    "display(uniqueartists.head(10))"
   ]
  },
  {
   "cell_type": "code",
   "execution_count": 8,
   "metadata": {},
   "outputs": [
    {
     "name": "stderr",
     "output_type": "stream",
     "text": [
      "Loading tracks.json and filtering out artists which don't have any audio data\n",
      "Artists filtered, filtered dataset contains 975 artists\n"
     ]
    }
   ],
   "source": [
    "logger.info('Loading tracks.json and filtering out artists which don\\'t have any audio data')\n",
    "\n",
    "f = open('dataset/tracks.json','r')\n",
    "flat_track_urls = json.load(f)\n",
    "f.close()\n",
    "\n",
    "# Only look at top numArtists artists, otherwise too much data to parse through in a reasonable timeframe\n",
    "topartists = uniqueartists.sort_values(ascending=False, by='listeners').head(params['numArtists']).index\n",
    "topartists = topartists[topartists.isin(flat_track_urls.keys())]\n",
    "\n",
    "subsetdf = df[df['mbid'].isin(topartists)]\n",
    "subsetdf.head(10)\n",
    "\n",
    "logger.info('Artists filtered, filtered dataset contains {} artists'.format(len(topartists)))"
   ]
  },
  {
   "cell_type": "markdown",
   "metadata": {},
   "source": [
    "## Calculate crosstab of the dataset\n",
    "\n",
    "This creates a symmetrical matrix with every artist MBID (MBIDs chosen since there are several artists with the same name, and the MBID is a guaranteed unique identifier) as column and row headers, and cells containing the number of users who listen to both artists. For example, the cell corresponding to `df['the beatles']['radiohead']` (substitute MBIDs for band names) contains the number of users who have listened to both Radiohead and The Beatles at least once. Along the diagonal is the number of users who listen to each given artist."
   ]
  },
  {
   "cell_type": "code",
   "execution_count": 9,
   "metadata": {},
   "outputs": [
    {
     "name": "stderr",
     "output_type": "stream",
     "text": [
      "Calculating dataset crosstab\n"
     ]
    },
    {
     "data": {
      "application/vnd.jupyter.widget-view+json": {
       "model_id": "a077e0c5d0ff4539aafbbaf0cef186b2",
       "version_major": 2,
       "version_minor": 0
      },
      "text/plain": [
       "HBox(children=(IntProgress(value=0, max=8), HTML(value='')))"
      ]
     },
     "metadata": {},
     "output_type": "display_data"
    },
    {
     "name": "stderr",
     "output_type": "stream",
     "text": [
      "Crosstab calculation complete\n"
     ]
    },
    {
     "name": "stdout",
     "output_type": "stream",
     "text": [
      "\n"
     ]
    }
   ],
   "source": [
    "logger.info('Calculating dataset crosstab')\n",
    "\n",
    "# Create empty crosstab dataframe\n",
    "crosstab = pd.DataFrame(np.zeros((len(topartists), len(topartists))), columns=topartists, index=topartists)\n",
    "\n",
    "# Split subset dataframe into chunks, then crosstab each chunk and add it to the total DF\n",
    "for g, chunkdf in tqdm_notebook(subsetdf.groupby(np.arange(len(subsetdf)) // 1000000)):\n",
    "    # Merges chunk with itself on userID. This creates a new DF with each \n",
    "    # artist entry for a given user coupled with all other artist entries for that user\n",
    "    dd = pd.merge(chunkdf, chunkdf, on='usersha1')\n",
    "    # Crosstab method to create co-occurrence matrix\n",
    "    crosstab_tmp = pd.crosstab(dd['mbid_x'], dd['mbid_y'])\n",
    "    crosstab = crosstab.add(crosstab_tmp, fill_value=0)\n",
    "\n",
    "crosstab\n",
    "\n",
    "logger.info('Crosstab calculation complete')"
   ]
  },
  {
   "cell_type": "markdown",
   "metadata": {},
   "source": [
    "## Save/Load data"
   ]
  },
  {
   "cell_type": "code",
   "execution_count": 10,
   "metadata": {},
   "outputs": [
    {
     "name": "stderr",
     "output_type": "stream",
     "text": [
      "Saved crosstab.hd5\n"
     ]
    }
   ],
   "source": [
    "# Save to HDF5 file\n",
    "crosstab.to_hdf('dataset/crosstab.hd5', key='artists')\n",
    "\n",
    "logger.info('Saved crosstab.hd5')"
   ]
  },
  {
   "cell_type": "code",
   "execution_count": 11,
   "metadata": {},
   "outputs": [
    {
     "name": "stderr",
     "output_type": "stream",
     "text": [
      "Loaded crosstab.hd5\n"
     ]
    }
   ],
   "source": [
    "# Load from HDF5 file\n",
    "crosstab = pd.read_hdf('dataset/crosstab.hd5', key='artists')\n",
    "\n",
    "logger.info('Loaded crosstab.hd5')"
   ]
  },
  {
   "cell_type": "markdown",
   "metadata": {},
   "source": [
    "## Normalize co-occurrences by number of listeners of each artist\n",
    "\n",
    "As the diagonal contains the number of listeners for each artist, we divide the dataframe by the diagonals along the columns. This gives us a normalized value which gives the proportion of listeners of a given artist that listen to another artist. For instance, if artist A has 10 listeners who all listen to artist B, and artist B has 20 listeners, `df.loc[A,B] == 1.0` and `df.loc[B,A] == 0.5`."
   ]
  },
  {
   "cell_type": "code",
   "execution_count": 12,
   "metadata": {},
   "outputs": [
    {
     "name": "stderr",
     "output_type": "stream",
     "text": [
      "Normalizing co-occurrences\n",
      "Co-occurrences normalized\n"
     ]
    }
   ],
   "source": [
    "logger.info('Normalizing co-occurrences')\n",
    "\n",
    "counts = pd.Series(np.diag(crosstab), index=crosstab.index)\n",
    "crosstab_norm = crosstab.div(counts, axis=1)\n",
    "\n",
    "logger.info('Co-occurrences normalized')"
   ]
  },
  {
   "cell_type": "markdown",
   "metadata": {},
   "source": [
    "## Remove diagonals and scale values\n",
    "\n",
    "Remove diagonals, to remove 1.0 values, then scale along columns. Replace the diagonals with NaN, so that we can remove them later to get rid of pairings of artists with themselves."
   ]
  },
  {
   "cell_type": "code",
   "execution_count": 13,
   "metadata": {},
   "outputs": [
    {
     "name": "stderr",
     "output_type": "stream",
     "text": [
      "Scaling co-occurrence matrix\n",
      "Co-occurrence matrix scaled\n"
     ]
    }
   ],
   "source": [
    "logger.info('Scaling co-occurrence matrix')\n",
    "\n",
    "np.fill_diagonal(crosstab_norm.values, 0)\n",
    "vals = crosstab_norm.values\n",
    "min_max_scaler = preprocessing.MinMaxScaler()\n",
    "vals_scaled = min_max_scaler.fit_transform(vals)\n",
    "crosstab_norm_scaled = pd.DataFrame(vals_scaled, columns=crosstab_norm.columns, index=crosstab_norm.index)\n",
    "np.fill_diagonal(crosstab_norm_scaled.values, np.nan)\n",
    "\n",
    "logger.info('Co-occurrence matrix scaled')"
   ]
  },
  {
   "cell_type": "markdown",
   "metadata": {},
   "source": [
    "## Stack dataframe\n",
    "\n",
    "Stacks the dataframe, converting the grid into a list. This is done to simplify splitting the dataset into a training, dev, and test set.\n",
    "\n",
    "NOTE: This reverses the A/B relation above."
   ]
  },
  {
   "cell_type": "code",
   "execution_count": 14,
   "metadata": {},
   "outputs": [
    {
     "name": "stderr",
     "output_type": "stream",
     "text": [
      "Stacking co-occurrence matrix\n",
      "Co-occurrence matrix stacked\n"
     ]
    }
   ],
   "source": [
    "logger.info('Stacking co-occurrence matrix')\n",
    "\n",
    "crosstab_norm_scaled_stack = crosstab_norm_scaled.stack()\n",
    "\n",
    "logger.info('Co-occurrence matrix stacked')"
   ]
  },
  {
   "cell_type": "code",
   "execution_count": 15,
   "metadata": {},
   "outputs": [
    {
     "data": {
      "text/plain": [
       "1.0"
      ]
     },
     "metadata": {},
     "output_type": "display_data"
    },
    {
     "data": {
      "text/plain": [
       "1.0"
      ]
     },
     "metadata": {},
     "output_type": "display_data"
    },
    {
     "data": {
      "text/plain": [
       "0.9999999999999999"
      ]
     },
     "metadata": {},
     "output_type": "display_data"
    },
    {
     "data": {
      "text/html": [
       "<div>\n",
       "<style scoped>\n",
       "    .dataframe tbody tr th:only-of-type {\n",
       "        vertical-align: middle;\n",
       "    }\n",
       "\n",
       "    .dataframe tbody tr th {\n",
       "        vertical-align: top;\n",
       "    }\n",
       "\n",
       "    .dataframe thead th {\n",
       "        text-align: right;\n",
       "    }\n",
       "</style>\n",
       "<table border=\"1\" class=\"dataframe\">\n",
       "  <thead>\n",
       "    <tr style=\"text-align: right;\">\n",
       "      <th></th>\n",
       "      <th>val</th>\n",
       "      <th>artistname</th>\n",
       "    </tr>\n",
       "  </thead>\n",
       "  <tbody>\n",
       "    <tr>\n",
       "      <th>a74b1b7f-71a5-4011-9441-d0b5e4122711</th>\n",
       "      <td>1.000000</td>\n",
       "      <td>radiohead</td>\n",
       "    </tr>\n",
       "    <tr>\n",
       "      <th>cc197bad-dc9c-440d-a5b5-d52ba2e14234</th>\n",
       "      <td>0.709293</td>\n",
       "      <td>coldplay</td>\n",
       "    </tr>\n",
       "    <tr>\n",
       "      <th>83d91898-7763-47d7-b03b-b92132375c47</th>\n",
       "      <td>0.707252</td>\n",
       "      <td>pink floyd</td>\n",
       "    </tr>\n",
       "    <tr>\n",
       "      <th>72c536dc-7137-4477-a521-567eeb840fa8</th>\n",
       "      <td>0.623486</td>\n",
       "      <td>bob dylan</td>\n",
       "    </tr>\n",
       "    <tr>\n",
       "      <th>b071f9fa-14b0-4217-8e97-eb41da73f598</th>\n",
       "      <td>0.582070</td>\n",
       "      <td>the rolling stones</td>\n",
       "    </tr>\n",
       "    <tr>\n",
       "      <th>678d88b2-87b0-403b-b63d-5da7465aecc3</th>\n",
       "      <td>0.577503</td>\n",
       "      <td>led zeppelin</td>\n",
       "    </tr>\n",
       "    <tr>\n",
       "      <th>8bfac288-ccc5-448d-9573-c33ea2aa5c30</th>\n",
       "      <td>0.563179</td>\n",
       "      <td>red hot chili peppers</td>\n",
       "    </tr>\n",
       "    <tr>\n",
       "      <th>5441c29d-3602-4898-b1a1-b77fa23b8e50</th>\n",
       "      <td>0.543284</td>\n",
       "      <td>david bowie</td>\n",
       "    </tr>\n",
       "    <tr>\n",
       "      <th>0383dadf-2a4e-4d10-a46a-e9e041da8eb3</th>\n",
       "      <td>0.509653</td>\n",
       "      <td>queen</td>\n",
       "    </tr>\n",
       "    <tr>\n",
       "      <th>9c9f1380-2516-4fc9-a3e6-f9f61941d090</th>\n",
       "      <td>0.470694</td>\n",
       "      <td>muse</td>\n",
       "    </tr>\n",
       "  </tbody>\n",
       "</table>\n",
       "</div>"
      ],
      "text/plain": [
       "                                           val             artistname\n",
       "a74b1b7f-71a5-4011-9441-d0b5e4122711  1.000000              radiohead\n",
       "cc197bad-dc9c-440d-a5b5-d52ba2e14234  0.709293               coldplay\n",
       "83d91898-7763-47d7-b03b-b92132375c47  0.707252             pink floyd\n",
       "72c536dc-7137-4477-a521-567eeb840fa8  0.623486              bob dylan\n",
       "b071f9fa-14b0-4217-8e97-eb41da73f598  0.582070     the rolling stones\n",
       "678d88b2-87b0-403b-b63d-5da7465aecc3  0.577503           led zeppelin\n",
       "8bfac288-ccc5-448d-9573-c33ea2aa5c30  0.563179  red hot chili peppers\n",
       "5441c29d-3602-4898-b1a1-b77fa23b8e50  0.543284            david bowie\n",
       "0383dadf-2a4e-4d10-a46a-e9e041da8eb3  0.509653                  queen\n",
       "9c9f1380-2516-4fc9-a3e6-f9f61941d090  0.470694                   muse"
      ]
     },
     "metadata": {},
     "output_type": "display_data"
    }
   ],
   "source": [
    "the_beatles_mbid = mbid_to_artist[mbid_to_artist['artistname'] == 'the beatles'].index[0]\n",
    "radiohead_mbid = mbid_to_artist[mbid_to_artist['artistname'] == 'radiohead'].index[0]\n",
    "display(crosstab_norm_scaled.loc[the_beatles_mbid,radiohead_mbid])\n",
    "display(crosstab_norm_scaled_stack.loc[the_beatles_mbid,radiohead_mbid])\n",
    "display(crosstab_norm_scaled_stack.loc[radiohead_mbid,the_beatles_mbid])\n",
    "display(crosstab_norm_scaled[the_beatles_mbid].sort_values(ascending=False).head(10).to_frame(name = 'val').join(mbid_to_artist))"
   ]
  },
  {
   "cell_type": "markdown",
   "metadata": {},
   "source": [
    "## Split the dataset and save\n",
    "\n",
    "Split the dataset by random sampling. 98% training set, 1% dev set, 1% test set"
   ]
  },
  {
   "cell_type": "code",
   "execution_count": 16,
   "metadata": {},
   "outputs": [
    {
     "name": "stderr",
     "output_type": "stream",
     "text": [
      "Splitting dataset into train/dev/test sets\n"
     ]
    }
   ],
   "source": [
    "logger.info('Splitting dataset into train/dev/test sets')\n",
    "\n",
    "train, devtest = train_test_split(crosstab_norm_scaled_stack, test_size=0.02, random_state = 1)\n",
    "dev, test = train_test_split(devtest, test_size=0.5, random_state = 2)"
   ]
  },
  {
   "cell_type": "code",
   "execution_count": 18,
   "metadata": {},
   "outputs": [
    {
     "name": "stderr",
     "output_type": "stream",
     "text": [
      "Total dataset size: 949650\n",
      "Training set size: 930657\n",
      "Dev set size: 9496\n",
      "Test set size: 9497\n"
     ]
    }
   ],
   "source": [
    "logger.info('Total dataset size: {}'.format(len(crosstab_norm_scaled_stack)))\n",
    "logger.info('Training set size: {}'.format(len(train)))\n",
    "logger.info('Dev set size: {}'.format(len(dev)))\n",
    "logger.info('Test set size: {}'.format(len(test)))"
   ]
  },
  {
   "cell_type": "code",
   "execution_count": 19,
   "metadata": {},
   "outputs": [
    {
     "name": "stderr",
     "output_type": "stream",
     "text": [
      "Saving split dataset\n",
      "Split dataset saved\n"
     ]
    }
   ],
   "source": [
    "# Save all to HDF5 files\n",
    "logger.info('Saving split dataset')\n",
    "\n",
    "train.to_hdf('dataset/train.hd5', key='artists')\n",
    "dev.to_hdf('dataset/dev.hd5', key='artists')\n",
    "test.to_hdf('dataset/test.hd5', key='artists')\n",
    "\n",
    "logger.info('Split dataset saved')"
   ]
  },
  {
   "cell_type": "markdown",
   "metadata": {},
   "source": [
    "## Alternate metric using minimum then normalization across artist\n",
    "\n",
    "The following sections process the data in an alternative way, by taking `min(df[A,B], df[B,A])` and using that as the value for both artists, then normalizing along columns. This should make obscure artists more prominent among other obscure artists, as an issue with the current method of data processing is that there are very popular bands that are highly-ranked among similar artists. This means that almost all rock bands will have very popular rock bands like The Beatles or Radiohead ranked highly, when the person would presumably prefer to have more obscure artists suggested. This may or may not subjectively work better.\n",
    "\n",
    "Prior to stacking, the upper triangle of the dataframe was set to NA to remove duplicate entries, since `df[A][B] == df[B][A]`.\n",
    "\n",
    "All files and variables have the `_min` suffix.\n",
    "\n",
    "**This is the method I ultimately went with, since I ended up training a siamese network, where input order would have not mattered.**"
   ]
  },
  {
   "cell_type": "code",
   "execution_count": 45,
   "metadata": {},
   "outputs": [
    {
     "name": "stderr",
     "output_type": "stream",
     "text": [
      "Re-calculating and normalizing dataset using alternative minimum-based metric\n",
      "Re-calculation and normalization complete\n"
     ]
    }
   ],
   "source": [
    "logger.info('Re-calculating and normalizing dataset using alternative minimum-based metric')\n",
    "\n",
    "counts = pd.Series(np.diag(crosstab), index=crosstab.index)\n",
    "crosstab_norm = crosstab.div(counts, axis=1)\n",
    "minidx = crosstab_norm < crosstab_norm.T\n",
    "crosstab_norm_min = crosstab_norm[minidx].fillna(0) + crosstab_norm.T[~minidx].fillna(0)\n",
    "\n",
    "logger.info('Re-calculation and normalization complete')"
   ]
  },
  {
   "cell_type": "code",
   "execution_count": 73,
   "metadata": {},
   "outputs": [
    {
     "name": "stderr",
     "output_type": "stream",
     "text": [
      "Re-scaling min dataset\n",
      "Min dataset re-scaled\n"
     ]
    }
   ],
   "source": [
    "logger.info('Re-scaling min dataset')\n",
    "\n",
    "np.fill_diagonal(crosstab_norm_min.values, 0)\n",
    "vals = crosstab_norm_min.values\n",
    "vals_scaled = (vals - np.nanmin(vals)) / (np.nanmax(vals)- np.nanmin(vals))\n",
    "crosstab_norm_min_scaled = pd.DataFrame(vals_scaled, columns=crosstab_norm_min.columns, index=crosstab_norm_min.index)\n",
    "np.fill_diagonal(crosstab_norm_min_scaled.values, np.nan)\n",
    "\n",
    "logger.info('Min dataset re-scaled')"
   ]
  },
  {
   "cell_type": "code",
   "execution_count": 74,
   "metadata": {},
   "outputs": [
    {
     "name": "stderr",
     "output_type": "stream",
     "text": [
      "Stacking min dataset\n",
      "Min dataset stacked\n"
     ]
    }
   ],
   "source": [
    "logger.info('Stacking min dataset')\n",
    "\n",
    "crosstab_norm_min_scaled = crosstab_norm_min_scaled.where(~np.triu(np.ones(crosstab_norm_min_scaled.shape)).astype(np.bool))\n",
    "crosstab_norm_min_scaled_stack = crosstab_norm_min_scaled.stack()\n",
    "\n",
    "logger.info('Min dataset stacked')"
   ]
  },
  {
   "cell_type": "code",
   "execution_count": 75,
   "metadata": {},
   "outputs": [
    {
     "name": "stderr",
     "output_type": "stream",
     "text": [
      "Splitting min dataset into train/dev/test sets\n"
     ]
    }
   ],
   "source": [
    "logger.info('Splitting min dataset into train/dev/test sets')\n",
    "\n",
    "train_min, devtest_min = train_test_split(crosstab_norm_min_scaled_stack, test_size=0.02, random_state = 1)\n",
    "dev_min, test_min = train_test_split(devtest_min, test_size=0.5, random_state = 2)"
   ]
  },
  {
   "cell_type": "code",
   "execution_count": 76,
   "metadata": {},
   "outputs": [
    {
     "name": "stderr",
     "output_type": "stream",
     "text": [
      "Total min dataset size: 474825\n",
      "Min training set size: 465328\n",
      "Min dev set size: 4748\n",
      "Min test set size: 4749\n"
     ]
    }
   ],
   "source": [
    "logger.info('Total min dataset size: {}'.format(len(crosstab_norm_min_scaled_stack)))\n",
    "logger.info('Min training set size: {}'.format(len(train_min)))\n",
    "logger.info('Min dev set size: {}'.format(len(dev_min)))\n",
    "logger.info('Min test set size: {}'.format(len(test_min)))"
   ]
  },
  {
   "cell_type": "code",
   "execution_count": 50,
   "metadata": {},
   "outputs": [
    {
     "name": "stderr",
     "output_type": "stream",
     "text": [
      "Saving split min dataset\n",
      "Split min dataset saved\n"
     ]
    }
   ],
   "source": [
    "logger.info('Saving split min dataset')\n",
    "\n",
    "# Save all to HDF5 files\n",
    "train_min.to_hdf('dataset/train_min.hd5', key='artists')\n",
    "dev_min.to_hdf('dataset/dev_min.hd5', key='artists')\n",
    "test_min.to_hdf('dataset/test_min.hd5', key='artists')\n",
    "\n",
    "logger.info('Split min dataset saved')"
   ]
  },
  {
   "cell_type": "code",
   "execution_count": 61,
   "metadata": {},
   "outputs": [
    {
     "data": {
      "text/html": [
       "<div>\n",
       "<style scoped>\n",
       "    .dataframe tbody tr th:only-of-type {\n",
       "        vertical-align: middle;\n",
       "    }\n",
       "\n",
       "    .dataframe tbody tr th {\n",
       "        vertical-align: top;\n",
       "    }\n",
       "\n",
       "    .dataframe thead th {\n",
       "        text-align: right;\n",
       "    }\n",
       "</style>\n",
       "<table border=\"1\" class=\"dataframe\">\n",
       "  <thead>\n",
       "    <tr style=\"text-align: right;\">\n",
       "      <th></th>\n",
       "      <th>val</th>\n",
       "      <th>artistname</th>\n",
       "    </tr>\n",
       "  </thead>\n",
       "  <tbody>\n",
       "    <tr>\n",
       "      <th>b10bbbfc-cf9e-42e0-be17-e2c3e1d2600d</th>\n",
       "      <td>1.000000</td>\n",
       "      <td>the beatles</td>\n",
       "    </tr>\n",
       "    <tr>\n",
       "      <th>cc197bad-dc9c-440d-a5b5-d52ba2e14234</th>\n",
       "      <td>0.901426</td>\n",
       "      <td>coldplay</td>\n",
       "    </tr>\n",
       "    <tr>\n",
       "      <th>9c9f1380-2516-4fc9-a3e6-f9f61941d090</th>\n",
       "      <td>0.726732</td>\n",
       "      <td>muse</td>\n",
       "    </tr>\n",
       "    <tr>\n",
       "      <th>83d91898-7763-47d7-b03b-b92132375c47</th>\n",
       "      <td>0.566881</td>\n",
       "      <td>pink floyd</td>\n",
       "    </tr>\n",
       "    <tr>\n",
       "      <th>f6f2326f-6b25-4170-b89d-e235b25508e8</th>\n",
       "      <td>0.556743</td>\n",
       "      <td>sigur rós</td>\n",
       "    </tr>\n",
       "    <tr>\n",
       "      <th>8bfac288-ccc5-448d-9573-c33ea2aa5c30</th>\n",
       "      <td>0.525327</td>\n",
       "      <td>red hot chili peppers</td>\n",
       "    </tr>\n",
       "    <tr>\n",
       "      <th>95e1ead9-4d31-4808-a7ac-32c3614c116b</th>\n",
       "      <td>0.507993</td>\n",
       "      <td>the killers</td>\n",
       "    </tr>\n",
       "    <tr>\n",
       "      <th>0039c7ae-e1a7-4a7d-9b49-0cbc716821a6</th>\n",
       "      <td>0.488236</td>\n",
       "      <td>death cab for cutie</td>\n",
       "    </tr>\n",
       "    <tr>\n",
       "      <th>8f6bd1e4-fbe1-4f50-aa9b-94c450ec0f11</th>\n",
       "      <td>0.483461</td>\n",
       "      <td>portishead</td>\n",
       "    </tr>\n",
       "    <tr>\n",
       "      <th>52074ba6-e495-4ef3-9bb4-0703888a9f68</th>\n",
       "      <td>0.464916</td>\n",
       "      <td>arcade fire</td>\n",
       "    </tr>\n",
       "  </tbody>\n",
       "</table>\n",
       "</div>"
      ],
      "text/plain": [
       "                                           val             artistname\n",
       "b10bbbfc-cf9e-42e0-be17-e2c3e1d2600d  1.000000            the beatles\n",
       "cc197bad-dc9c-440d-a5b5-d52ba2e14234  0.901426               coldplay\n",
       "9c9f1380-2516-4fc9-a3e6-f9f61941d090  0.726732                   muse\n",
       "83d91898-7763-47d7-b03b-b92132375c47  0.566881             pink floyd\n",
       "f6f2326f-6b25-4170-b89d-e235b25508e8  0.556743              sigur rós\n",
       "8bfac288-ccc5-448d-9573-c33ea2aa5c30  0.525327  red hot chili peppers\n",
       "95e1ead9-4d31-4808-a7ac-32c3614c116b  0.507993            the killers\n",
       "0039c7ae-e1a7-4a7d-9b49-0cbc716821a6  0.488236    death cab for cutie\n",
       "8f6bd1e4-fbe1-4f50-aa9b-94c450ec0f11  0.483461             portishead\n",
       "52074ba6-e495-4ef3-9bb4-0703888a9f68  0.464916            arcade fire"
      ]
     },
     "metadata": {},
     "output_type": "display_data"
    },
    {
     "data": {
      "text/html": [
       "<div>\n",
       "<style scoped>\n",
       "    .dataframe tbody tr th:only-of-type {\n",
       "        vertical-align: middle;\n",
       "    }\n",
       "\n",
       "    .dataframe tbody tr th {\n",
       "        vertical-align: top;\n",
       "    }\n",
       "\n",
       "    .dataframe thead th {\n",
       "        text-align: right;\n",
       "    }\n",
       "</style>\n",
       "<table border=\"1\" class=\"dataframe\">\n",
       "  <thead>\n",
       "    <tr style=\"text-align: right;\">\n",
       "      <th></th>\n",
       "      <th>val</th>\n",
       "      <th>artistname</th>\n",
       "    </tr>\n",
       "  </thead>\n",
       "  <tbody>\n",
       "    <tr>\n",
       "      <th>b10bbbfc-cf9e-42e0-be17-e2c3e1d2600d</th>\n",
       "      <td>0.374121</td>\n",
       "      <td>the beatles</td>\n",
       "    </tr>\n",
       "    <tr>\n",
       "      <th>cc197bad-dc9c-440d-a5b5-d52ba2e14234</th>\n",
       "      <td>0.337243</td>\n",
       "      <td>coldplay</td>\n",
       "    </tr>\n",
       "    <tr>\n",
       "      <th>f6f2326f-6b25-4170-b89d-e235b25508e8</th>\n",
       "      <td>0.208290</td>\n",
       "      <td>sigur rós</td>\n",
       "    </tr>\n",
       "    <tr>\n",
       "      <th>ba0d6274-db14-4ef5-b28d-657ebde1a396</th>\n",
       "      <td>0.172628</td>\n",
       "      <td>the smashing pumpkins</td>\n",
       "    </tr>\n",
       "    <tr>\n",
       "      <th>ada7a83c-e3e1-40f1-93f9-3e73dbc9298a</th>\n",
       "      <td>0.160292</td>\n",
       "      <td>arctic monkeys</td>\n",
       "    </tr>\n",
       "    <tr>\n",
       "      <th>b7ffd2af-418f-4be2-bdd1-22f8b48613da</th>\n",
       "      <td>0.152447</td>\n",
       "      <td>nine inch nails</td>\n",
       "    </tr>\n",
       "    <tr>\n",
       "      <th>b23e8a63-8f47-4882-b55b-df2c92ef400e</th>\n",
       "      <td>0.151450</td>\n",
       "      <td>interpol</td>\n",
       "    </tr>\n",
       "    <tr>\n",
       "      <th>a96ac800-bfcb-412a-8a63-0a98df600700</th>\n",
       "      <td>0.139969</td>\n",
       "      <td>modest mouse</td>\n",
       "    </tr>\n",
       "    <tr>\n",
       "      <th>aa7a2827-f74b-473c-bd79-03d065835cf7</th>\n",
       "      <td>0.132551</td>\n",
       "      <td>franz ferdinand</td>\n",
       "    </tr>\n",
       "    <tr>\n",
       "      <th>f181961b-20f7-459e-89de-920ef03c7ed0</th>\n",
       "      <td>0.131399</td>\n",
       "      <td>the strokes</td>\n",
       "    </tr>\n",
       "  </tbody>\n",
       "</table>\n",
       "</div>"
      ],
      "text/plain": [
       "                                           val             artistname\n",
       "b10bbbfc-cf9e-42e0-be17-e2c3e1d2600d  0.374121            the beatles\n",
       "cc197bad-dc9c-440d-a5b5-d52ba2e14234  0.337243               coldplay\n",
       "f6f2326f-6b25-4170-b89d-e235b25508e8  0.208290              sigur rós\n",
       "ba0d6274-db14-4ef5-b28d-657ebde1a396  0.172628  the smashing pumpkins\n",
       "ada7a83c-e3e1-40f1-93f9-3e73dbc9298a  0.160292         arctic monkeys\n",
       "b7ffd2af-418f-4be2-bdd1-22f8b48613da  0.152447        nine inch nails\n",
       "b23e8a63-8f47-4882-b55b-df2c92ef400e  0.151450               interpol\n",
       "a96ac800-bfcb-412a-8a63-0a98df600700  0.139969           modest mouse\n",
       "aa7a2827-f74b-473c-bd79-03d065835cf7  0.132551        franz ferdinand\n",
       "f181961b-20f7-459e-89de-920ef03c7ed0  0.131399            the strokes"
      ]
     },
     "metadata": {},
     "output_type": "display_data"
    }
   ],
   "source": [
    "# Compare the two methods for a somewhat niche artist I'm personally familiar with.\n",
    "# The second 'min' method looks subjectively better!\n",
    "mbid = mbid_to_artist[mbid_to_artist['artistname'] == 'radiohead'].index[0]\n",
    "display(crosstab_norm_scaled[mbid].sort_values(ascending=False).head(10).to_frame(name = 'val').join(mbid_to_artist))\n",
    "display(crosstab_norm_min_scaled[mbid].sort_values(ascending=False).head(10).to_frame(name = 'val').join(mbid_to_artist))"
   ]
  },
  {
   "cell_type": "markdown",
   "metadata": {},
   "source": [
    "## Alternate method using plays\n",
    "\n",
    "The following sections do all the above steps, but instead calculate cross-tabulation using plays instead of just co-occurrences. The end result is that rather than the values corresponding to number of people who listen to artist A who also listen to artist B, the values will show number of plays of artist B per play of artist A. This may or may not end up working better. This is also nicer for model training because it results in a flatter distribution of similarity scores, which isn't as sharply exponential.\n",
    "\n",
    "All files are saved with the `_alt` suffix."
   ]
  },
  {
   "cell_type": "code",
   "execution_count": 27,
   "metadata": {
    "scrolled": true
   },
   "outputs": [
    {
     "name": "stderr",
     "output_type": "stream",
     "text": [
      "Calculating alt (plays-based) dataset crosstab\n"
     ]
    },
    {
     "data": {
      "application/vnd.jupyter.widget-view+json": {
       "model_id": "aea9e97796e94c968ba644cf3d3abe33",
       "version_major": 2,
       "version_minor": 0
      },
      "text/plain": [
       "HBox(children=(IntProgress(value=0, max=8), HTML(value='')))"
      ]
     },
     "metadata": {},
     "output_type": "display_data"
    },
    {
     "name": "stderr",
     "output_type": "stream",
     "text": [
      "Calculated alt dataset crosstab\n"
     ]
    },
    {
     "name": "stdout",
     "output_type": "stream",
     "text": [
      "\n"
     ]
    }
   ],
   "source": [
    "logger.info('Calculating alt (plays-based) dataset crosstab')\n",
    "\n",
    "# Create empty crosstab dataframe\n",
    "crosstab_alt = pd.DataFrame(np.zeros((len(topartists), len(topartists))), columns=topartists, index=topartists)\n",
    "\n",
    "# Split subset dataframe into chunks, then crosstab each chunk and add it to the total DF\n",
    "# Splitting into chunks is necessary to avoid running into memory issues\n",
    "for g, chunkdf in tqdm_notebook(subsetdf.groupby(np.arange(len(subsetdf)) // 1000000)):\n",
    "    # Merges chunk with itself on userID. This creates a new DF with each \n",
    "    # artist entry for a given user coupled with all other artist entries for that user\n",
    "    dd = pd.merge(chunkdf, chunkdf, on='usersha1')\n",
    "    # Crosstab method to create co-occurrence matrix\n",
    "    crosstab_tmp = pd.crosstab(dd['mbid_x'], dd['mbid_y'], values=dd['plays_y'], aggfunc='sum')\n",
    "    crosstab_alt = crosstab_alt.add(crosstab_tmp, fill_value=0)\n",
    "\n",
    "crosstab_alt\n",
    "\n",
    "logger.info('Calculated alt dataset crosstab')"
   ]
  },
  {
   "cell_type": "markdown",
   "metadata": {},
   "source": [
    "## Take the minimum, similar to the `_min` method, then normalize\n",
    "\n",
    "This is especially necessary for this dataset, otherwise the dataset will not reflect true preferences, and also favours artists with many listens."
   ]
  },
  {
   "cell_type": "code",
   "execution_count": 28,
   "metadata": {},
   "outputs": [
    {
     "name": "stderr",
     "output_type": "stream",
     "text": [
      "Normalizing alt co-occurrences\n",
      "Alt co-occurrences normalized\n"
     ]
    }
   ],
   "source": [
    "logger.info('Normalizing alt co-occurrences')\n",
    "\n",
    "counts = pd.Series(np.diag(crosstab_alt), index=crosstab_alt.index)\n",
    "crosstab_alt_norm = crosstab_alt.div(counts, axis=1)\n",
    "minidx = crosstab_alt_norm < crosstab_alt_norm.T\n",
    "crosstab_alt_norm = crosstab_alt_norm[minidx].fillna(0) + crosstab_alt_norm.T[~minidx].fillna(0)\n",
    "\n",
    "logger.info('Alt co-occurrences normalized')"
   ]
  },
  {
   "cell_type": "code",
   "execution_count": 29,
   "metadata": {},
   "outputs": [
    {
     "name": "stderr",
     "output_type": "stream",
     "text": [
      "Scaling alt co-occurrences\n",
      "Alt co-occurrences scaled\n"
     ]
    }
   ],
   "source": [
    "logger.info('Scaling alt co-occurrences')\n",
    "\n",
    "np.fill_diagonal(crosstab_alt_norm.values, 0)\n",
    "vals = crosstab_alt_norm.values\n",
    "min_max_scaler = preprocessing.MinMaxScaler()\n",
    "vals_scaled = (vals - np.nanmin(vals)) / (np.nanmax(vals)- np.nanmin(vals))\n",
    "crosstab_alt_norm_scaled = pd.DataFrame(vals_scaled, columns=crosstab_alt_norm.columns, index=crosstab_alt_norm.index)\n",
    "np.fill_diagonal(crosstab_alt_norm_scaled.values, np.nan)\n",
    "\n",
    "logger.info('Alt co-occurrences scaled')"
   ]
  },
  {
   "cell_type": "code",
   "execution_count": 42,
   "metadata": {},
   "outputs": [
    {
     "data": {
      "text/html": [
       "<div>\n",
       "<style scoped>\n",
       "    .dataframe tbody tr th:only-of-type {\n",
       "        vertical-align: middle;\n",
       "    }\n",
       "\n",
       "    .dataframe tbody tr th {\n",
       "        vertical-align: top;\n",
       "    }\n",
       "\n",
       "    .dataframe thead th {\n",
       "        text-align: right;\n",
       "    }\n",
       "</style>\n",
       "<table border=\"1\" class=\"dataframe\">\n",
       "  <thead>\n",
       "    <tr style=\"text-align: right;\">\n",
       "      <th></th>\n",
       "      <th>val</th>\n",
       "      <th>artistname</th>\n",
       "    </tr>\n",
       "  </thead>\n",
       "  <tbody>\n",
       "    <tr>\n",
       "      <th>b10bbbfc-cf9e-42e0-be17-e2c3e1d2600d</th>\n",
       "      <td>1.000000</td>\n",
       "      <td>the beatles</td>\n",
       "    </tr>\n",
       "    <tr>\n",
       "      <th>cc197bad-dc9c-440d-a5b5-d52ba2e14234</th>\n",
       "      <td>0.901426</td>\n",
       "      <td>coldplay</td>\n",
       "    </tr>\n",
       "    <tr>\n",
       "      <th>f6f2326f-6b25-4170-b89d-e235b25508e8</th>\n",
       "      <td>0.556743</td>\n",
       "      <td>sigur rós</td>\n",
       "    </tr>\n",
       "    <tr>\n",
       "      <th>ba0d6274-db14-4ef5-b28d-657ebde1a396</th>\n",
       "      <td>0.461421</td>\n",
       "      <td>the smashing pumpkins</td>\n",
       "    </tr>\n",
       "    <tr>\n",
       "      <th>ada7a83c-e3e1-40f1-93f9-3e73dbc9298a</th>\n",
       "      <td>0.428448</td>\n",
       "      <td>arctic monkeys</td>\n",
       "    </tr>\n",
       "    <tr>\n",
       "      <th>b7ffd2af-418f-4be2-bdd1-22f8b48613da</th>\n",
       "      <td>0.407480</td>\n",
       "      <td>nine inch nails</td>\n",
       "    </tr>\n",
       "    <tr>\n",
       "      <th>b23e8a63-8f47-4882-b55b-df2c92ef400e</th>\n",
       "      <td>0.404816</td>\n",
       "      <td>interpol</td>\n",
       "    </tr>\n",
       "    <tr>\n",
       "      <th>a96ac800-bfcb-412a-8a63-0a98df600700</th>\n",
       "      <td>0.374126</td>\n",
       "      <td>modest mouse</td>\n",
       "    </tr>\n",
       "    <tr>\n",
       "      <th>aa7a2827-f74b-473c-bd79-03d065835cf7</th>\n",
       "      <td>0.354301</td>\n",
       "      <td>franz ferdinand</td>\n",
       "    </tr>\n",
       "    <tr>\n",
       "      <th>f181961b-20f7-459e-89de-920ef03c7ed0</th>\n",
       "      <td>0.351221</td>\n",
       "      <td>the strokes</td>\n",
       "    </tr>\n",
       "  </tbody>\n",
       "</table>\n",
       "</div>"
      ],
      "text/plain": [
       "                                           val             artistname\n",
       "b10bbbfc-cf9e-42e0-be17-e2c3e1d2600d  1.000000            the beatles\n",
       "cc197bad-dc9c-440d-a5b5-d52ba2e14234  0.901426               coldplay\n",
       "f6f2326f-6b25-4170-b89d-e235b25508e8  0.556743              sigur rós\n",
       "ba0d6274-db14-4ef5-b28d-657ebde1a396  0.461421  the smashing pumpkins\n",
       "ada7a83c-e3e1-40f1-93f9-3e73dbc9298a  0.428448         arctic monkeys\n",
       "b7ffd2af-418f-4be2-bdd1-22f8b48613da  0.407480        nine inch nails\n",
       "b23e8a63-8f47-4882-b55b-df2c92ef400e  0.404816               interpol\n",
       "a96ac800-bfcb-412a-8a63-0a98df600700  0.374126           modest mouse\n",
       "aa7a2827-f74b-473c-bd79-03d065835cf7  0.354301        franz ferdinand\n",
       "f181961b-20f7-459e-89de-920ef03c7ed0  0.351221            the strokes"
      ]
     },
     "metadata": {},
     "output_type": "display_data"
    },
    {
     "data": {
      "text/html": [
       "<div>\n",
       "<style scoped>\n",
       "    .dataframe tbody tr th:only-of-type {\n",
       "        vertical-align: middle;\n",
       "    }\n",
       "\n",
       "    .dataframe tbody tr th {\n",
       "        vertical-align: top;\n",
       "    }\n",
       "\n",
       "    .dataframe thead th {\n",
       "        text-align: right;\n",
       "    }\n",
       "</style>\n",
       "<table border=\"1\" class=\"dataframe\">\n",
       "  <thead>\n",
       "    <tr style=\"text-align: right;\">\n",
       "      <th></th>\n",
       "      <th>val</th>\n",
       "      <th>artistname</th>\n",
       "    </tr>\n",
       "  </thead>\n",
       "  <tbody>\n",
       "    <tr>\n",
       "      <th>b10bbbfc-cf9e-42e0-be17-e2c3e1d2600d</th>\n",
       "      <td>1.000000</td>\n",
       "      <td>the beatles</td>\n",
       "    </tr>\n",
       "    <tr>\n",
       "      <th>cc197bad-dc9c-440d-a5b5-d52ba2e14234</th>\n",
       "      <td>0.928343</td>\n",
       "      <td>coldplay</td>\n",
       "    </tr>\n",
       "    <tr>\n",
       "      <th>f6f2326f-6b25-4170-b89d-e235b25508e8</th>\n",
       "      <td>0.716264</td>\n",
       "      <td>sigur rós</td>\n",
       "    </tr>\n",
       "    <tr>\n",
       "      <th>ba0d6274-db14-4ef5-b28d-657ebde1a396</th>\n",
       "      <td>0.558528</td>\n",
       "      <td>the smashing pumpkins</td>\n",
       "    </tr>\n",
       "    <tr>\n",
       "      <th>b23e8a63-8f47-4882-b55b-df2c92ef400e</th>\n",
       "      <td>0.525252</td>\n",
       "      <td>interpol</td>\n",
       "    </tr>\n",
       "    <tr>\n",
       "      <th>b7ffd2af-418f-4be2-bdd1-22f8b48613da</th>\n",
       "      <td>0.492788</td>\n",
       "      <td>nine inch nails</td>\n",
       "    </tr>\n",
       "    <tr>\n",
       "      <th>ada7a83c-e3e1-40f1-93f9-3e73dbc9298a</th>\n",
       "      <td>0.463321</td>\n",
       "      <td>arctic monkeys</td>\n",
       "    </tr>\n",
       "    <tr>\n",
       "      <th>a96ac800-bfcb-412a-8a63-0a98df600700</th>\n",
       "      <td>0.458346</td>\n",
       "      <td>modest mouse</td>\n",
       "    </tr>\n",
       "    <tr>\n",
       "      <th>f181961b-20f7-459e-89de-920ef03c7ed0</th>\n",
       "      <td>0.416454</td>\n",
       "      <td>the strokes</td>\n",
       "    </tr>\n",
       "    <tr>\n",
       "      <th>b6b2bb8d-54a9-491f-9607-7b546023b433</th>\n",
       "      <td>0.391124</td>\n",
       "      <td>pixies</td>\n",
       "    </tr>\n",
       "  </tbody>\n",
       "</table>\n",
       "</div>"
      ],
      "text/plain": [
       "                                           val             artistname\n",
       "b10bbbfc-cf9e-42e0-be17-e2c3e1d2600d  1.000000            the beatles\n",
       "cc197bad-dc9c-440d-a5b5-d52ba2e14234  0.928343               coldplay\n",
       "f6f2326f-6b25-4170-b89d-e235b25508e8  0.716264              sigur rós\n",
       "ba0d6274-db14-4ef5-b28d-657ebde1a396  0.558528  the smashing pumpkins\n",
       "b23e8a63-8f47-4882-b55b-df2c92ef400e  0.525252               interpol\n",
       "b7ffd2af-418f-4be2-bdd1-22f8b48613da  0.492788        nine inch nails\n",
       "ada7a83c-e3e1-40f1-93f9-3e73dbc9298a  0.463321         arctic monkeys\n",
       "a96ac800-bfcb-412a-8a63-0a98df600700  0.458346           modest mouse\n",
       "f181961b-20f7-459e-89de-920ef03c7ed0  0.416454            the strokes\n",
       "b6b2bb8d-54a9-491f-9607-7b546023b433  0.391124                 pixies"
      ]
     },
     "metadata": {},
     "output_type": "display_data"
    }
   ],
   "source": [
    "mbid = mbid_to_artist[mbid_to_artist['artistname'] == 'in flames'].index[0]\n",
    "display(crosstab_norm_min_scaled[mbid].sort_values(ascending=False).head(10).to_frame(name = 'val').join(mbid_to_artist))\n",
    "display(crosstab_alt_norm_scaled[mbid].sort_values(ascending=False).head(10).to_frame(name = 'val').join(mbid_to_artist))"
   ]
  },
  {
   "cell_type": "code",
   "execution_count": 31,
   "metadata": {},
   "outputs": [
    {
     "name": "stderr",
     "output_type": "stream",
     "text": [
      "Stacking alt co-occurrences\n",
      "Alt co-occurrences stacked\n"
     ]
    }
   ],
   "source": [
    "logger.info('Stacking alt co-occurrences')\n",
    "\n",
    "crosstab_alt_norm_scaled = crosstab_alt_norm_scaled.where(~np.triu(np.ones(crosstab_alt_norm_scaled.shape)).astype(np.bool))\n",
    "crosstab_alt_norm_scaled_stack = crosstab_alt_norm_scaled.stack()\n",
    "\n",
    "logger.info('Alt co-occurrences stacked')"
   ]
  },
  {
   "cell_type": "code",
   "execution_count": 32,
   "metadata": {},
   "outputs": [
    {
     "name": "stderr",
     "output_type": "stream",
     "text": [
      "Stacking alt dataset into train/dev/test sets\n"
     ]
    }
   ],
   "source": [
    "logger.info('Stacking alt dataset into train/dev/test sets')\n",
    "\n",
    "train_alt, devtest_alt = train_test_split(crosstab_alt_norm_scaled_stack, test_size=0.02, random_state = 1)\n",
    "dev_alt, test_alt = train_test_split(devtest_alt, test_size=0.5, random_state = 2)"
   ]
  },
  {
   "cell_type": "code",
   "execution_count": 33,
   "metadata": {},
   "outputs": [
    {
     "name": "stderr",
     "output_type": "stream",
     "text": [
      "Total alt dataset size: 474825\n",
      "Alt training set size: 465328\n",
      "Alt dev set size: 4748\n",
      "Alt test set size: 4749\n"
     ]
    }
   ],
   "source": [
    "logger.info('Total alt dataset size: {}'.format(len(crosstab_alt_norm_scaled_stack)))\n",
    "logger.info('Alt training set size: {}'.format(len(train_alt)))\n",
    "logger.info('Alt dev set size: {}'.format(len(dev_alt)))\n",
    "logger.info('Alt test set size: {}'.format(len(test_alt)))"
   ]
  },
  {
   "cell_type": "code",
   "execution_count": 34,
   "metadata": {},
   "outputs": [
    {
     "name": "stderr",
     "output_type": "stream",
     "text": [
      "Saving split alt dataset\n",
      "Split alt dataset saved\n"
     ]
    }
   ],
   "source": [
    "logger.info('Saving split alt dataset')\n",
    "\n",
    "# Save all to HDF5 files\n",
    "train_alt.to_hdf('dataset/train_alt.hd5', key='artists')\n",
    "dev_alt.to_hdf('dataset/dev_alt.hd5', key='artists')\n",
    "test_alt.to_hdf('dataset/test_alt.hd5', key='artists')\n",
    "\n",
    "logger.info('Split alt dataset saved')"
   ]
  },
  {
   "cell_type": "code",
   "execution_count": 65,
   "metadata": {},
   "outputs": [],
   "source": [
    "vals = crosstab_norm_min.values"
   ]
  },
  {
   "cell_type": "code",
   "execution_count": 72,
   "metadata": {},
   "outputs": [
    {
     "data": {
      "text/plain": [
       "0.0"
      ]
     },
     "execution_count": 72,
     "metadata": {},
     "output_type": "execute_result"
    }
   ],
   "source": []
  },
  {
   "cell_type": "code",
   "execution_count": null,
   "metadata": {},
   "outputs": [],
   "source": []
  }
 ],
 "metadata": {
  "kernelspec": {
   "display_name": "Python 3",
   "language": "python",
   "name": "python3"
  },
  "language_info": {
   "codemirror_mode": {
    "name": "ipython",
    "version": 3
   },
   "file_extension": ".py",
   "mimetype": "text/x-python",
   "name": "python",
   "nbconvert_exporter": "python",
   "pygments_lexer": "ipython3",
   "version": "3.6.5"
  }
 },
 "nbformat": 4,
 "nbformat_minor": 2
}
