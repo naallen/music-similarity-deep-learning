{
 "cells": [
  {
   "cell_type": "markdown",
   "metadata": {},
   "source": [
    "# Process and split the raw data\n",
    "\n",
    "This notebook performs processing on the dataset to convert it to a set of similarity pairings between artists. The Last.FM dataset has a list of users, artists, and number of plays for each artist. My method creates a similarity metric between all possible pairings of two artists by calculating the co-occurence of listeners between every artist pairing. That is, how many people have listened to both artists at least once. Then, I use various ways to convert that into a proportion."
   ]
  },
  {
   "cell_type": "code",
   "execution_count": 2,
   "metadata": {},
   "outputs": [],
   "source": [
    "import pandas as pd\n",
    "import numpy as np\n",
    "import json\n",
    "from tqdm import tqdm_notebook \n",
    "from sklearn import preprocessing\n",
    "from sklearn.model_selection import train_test_split\n",
    "from utils import load_json, make_logger\n",
    "import logging\n",
    "import itertools\n",
    "\n",
    "params = load_json('params.json')\n",
    "logger = make_logger('gen_split_dataset', 'log/gen_split_dataset.log')"
   ]
  },
  {
   "cell_type": "markdown",
   "metadata": {},
   "source": [
    "## Load and clean the data\n",
    "\n",
    "This part presumes that you have downloaded the dataset at http://mtg.upf.edu/static/datasets/last.fm/lastfm-dataset-360K.tar.gz and extracted the contents to the dataset directory."
   ]
  },
  {
   "cell_type": "code",
   "execution_count": 2,
   "metadata": {},
   "outputs": [
    {
     "name": "stderr",
     "output_type": "stream",
     "text": [
      "Loading Last.FM data...\n",
      "Loaded Last.FM data\n"
     ]
    }
   ],
   "source": [
    "logger.info('Loading Last.FM data...')\n",
    "\n",
    "playscols = ['usersha1', 'mbid', 'artistname', 'plays']\n",
    "playsdf = pd.read_csv('dataset/usersha1-artmbid-artname-plays.tsv', sep='\\t', names=playscols, index_col=False)\n",
    "profilecols = ['usersha1', 'gender', 'age', 'country', 'registration']\n",
    "profiledf = pd.read_csv('dataset/usersha1-profile.tsv', sep='\\t', names=profilecols, index_col=False)\n",
    "df = playsdf.merge(profiledf, on=['usersha1'], how='left')\n",
    "\n",
    "# Clean the data by removing artists without mbid (usually nonsense)\n",
    "# and profiles without registration (also usually nonsense, maybe dataset artifact)\n",
    "# Also delete entries with unknown artists, and artists that only show up once\n",
    "df = df[df['mbid'].notnull() & df['registration'].notnull() \n",
    "        & (df['artistname'] != '[unknown]') & df.duplicated(subset='artistname', keep=False)]\n",
    "\n",
    "logger.info('Loaded Last.FM data')"
   ]
  },
  {
   "cell_type": "code",
   "execution_count": 3,
   "metadata": {},
   "outputs": [
    {
     "data": {
      "text/html": [
       "<div>\n",
       "<style scoped>\n",
       "    .dataframe tbody tr th:only-of-type {\n",
       "        vertical-align: middle;\n",
       "    }\n",
       "\n",
       "    .dataframe tbody tr th {\n",
       "        vertical-align: top;\n",
       "    }\n",
       "\n",
       "    .dataframe thead th {\n",
       "        text-align: right;\n",
       "    }\n",
       "</style>\n",
       "<table border=\"1\" class=\"dataframe\">\n",
       "  <thead>\n",
       "    <tr style=\"text-align: right;\">\n",
       "      <th></th>\n",
       "      <th>usersha1</th>\n",
       "      <th>mbid</th>\n",
       "      <th>artistname</th>\n",
       "      <th>plays</th>\n",
       "      <th>gender</th>\n",
       "      <th>age</th>\n",
       "      <th>country</th>\n",
       "      <th>registration</th>\n",
       "    </tr>\n",
       "  </thead>\n",
       "  <tbody>\n",
       "    <tr>\n",
       "      <th>0</th>\n",
       "      <td>00000c289a1829a808ac09c00daf10bc3c4e223b</td>\n",
       "      <td>3bd73256-3905-4f3a-97e2-8b341527f805</td>\n",
       "      <td>betty blowtorch</td>\n",
       "      <td>2137</td>\n",
       "      <td>f</td>\n",
       "      <td>22.0</td>\n",
       "      <td>Germany</td>\n",
       "      <td>Feb 1, 2007</td>\n",
       "    </tr>\n",
       "    <tr>\n",
       "      <th>1</th>\n",
       "      <td>00000c289a1829a808ac09c00daf10bc3c4e223b</td>\n",
       "      <td>f2fb0ff0-5679-42ec-a55c-15109ce6e320</td>\n",
       "      <td>die Ärzte</td>\n",
       "      <td>1099</td>\n",
       "      <td>f</td>\n",
       "      <td>22.0</td>\n",
       "      <td>Germany</td>\n",
       "      <td>Feb 1, 2007</td>\n",
       "    </tr>\n",
       "    <tr>\n",
       "      <th>2</th>\n",
       "      <td>00000c289a1829a808ac09c00daf10bc3c4e223b</td>\n",
       "      <td>b3ae82c2-e60b-4551-a76d-6620f1b456aa</td>\n",
       "      <td>melissa etheridge</td>\n",
       "      <td>897</td>\n",
       "      <td>f</td>\n",
       "      <td>22.0</td>\n",
       "      <td>Germany</td>\n",
       "      <td>Feb 1, 2007</td>\n",
       "    </tr>\n",
       "    <tr>\n",
       "      <th>3</th>\n",
       "      <td>00000c289a1829a808ac09c00daf10bc3c4e223b</td>\n",
       "      <td>3d6bbeb7-f90e-4d10-b440-e153c0d10b53</td>\n",
       "      <td>elvenking</td>\n",
       "      <td>717</td>\n",
       "      <td>f</td>\n",
       "      <td>22.0</td>\n",
       "      <td>Germany</td>\n",
       "      <td>Feb 1, 2007</td>\n",
       "    </tr>\n",
       "    <tr>\n",
       "      <th>4</th>\n",
       "      <td>00000c289a1829a808ac09c00daf10bc3c4e223b</td>\n",
       "      <td>bbd2ffd7-17f4-4506-8572-c1ea58c3f9a8</td>\n",
       "      <td>juliette &amp; the licks</td>\n",
       "      <td>706</td>\n",
       "      <td>f</td>\n",
       "      <td>22.0</td>\n",
       "      <td>Germany</td>\n",
       "      <td>Feb 1, 2007</td>\n",
       "    </tr>\n",
       "    <tr>\n",
       "      <th>5</th>\n",
       "      <td>00000c289a1829a808ac09c00daf10bc3c4e223b</td>\n",
       "      <td>8bfac288-ccc5-448d-9573-c33ea2aa5c30</td>\n",
       "      <td>red hot chili peppers</td>\n",
       "      <td>691</td>\n",
       "      <td>f</td>\n",
       "      <td>22.0</td>\n",
       "      <td>Germany</td>\n",
       "      <td>Feb 1, 2007</td>\n",
       "    </tr>\n",
       "    <tr>\n",
       "      <th>6</th>\n",
       "      <td>00000c289a1829a808ac09c00daf10bc3c4e223b</td>\n",
       "      <td>6531c8b1-76ea-4141-b270-eb1ac5b41375</td>\n",
       "      <td>magica</td>\n",
       "      <td>545</td>\n",
       "      <td>f</td>\n",
       "      <td>22.0</td>\n",
       "      <td>Germany</td>\n",
       "      <td>Feb 1, 2007</td>\n",
       "    </tr>\n",
       "    <tr>\n",
       "      <th>7</th>\n",
       "      <td>00000c289a1829a808ac09c00daf10bc3c4e223b</td>\n",
       "      <td>21f3573f-10cf-44b3-aeaa-26cccd8448b5</td>\n",
       "      <td>the black dahlia murder</td>\n",
       "      <td>507</td>\n",
       "      <td>f</td>\n",
       "      <td>22.0</td>\n",
       "      <td>Germany</td>\n",
       "      <td>Feb 1, 2007</td>\n",
       "    </tr>\n",
       "    <tr>\n",
       "      <th>8</th>\n",
       "      <td>00000c289a1829a808ac09c00daf10bc3c4e223b</td>\n",
       "      <td>c5db90c4-580d-4f33-b364-fbaa5a3a58b5</td>\n",
       "      <td>the murmurs</td>\n",
       "      <td>424</td>\n",
       "      <td>f</td>\n",
       "      <td>22.0</td>\n",
       "      <td>Germany</td>\n",
       "      <td>Feb 1, 2007</td>\n",
       "    </tr>\n",
       "    <tr>\n",
       "      <th>9</th>\n",
       "      <td>00000c289a1829a808ac09c00daf10bc3c4e223b</td>\n",
       "      <td>0639533a-0402-40ba-b6e0-18b067198b73</td>\n",
       "      <td>lunachicks</td>\n",
       "      <td>403</td>\n",
       "      <td>f</td>\n",
       "      <td>22.0</td>\n",
       "      <td>Germany</td>\n",
       "      <td>Feb 1, 2007</td>\n",
       "    </tr>\n",
       "  </tbody>\n",
       "</table>\n",
       "</div>"
      ],
      "text/plain": [
       "                                   usersha1  \\\n",
       "0  00000c289a1829a808ac09c00daf10bc3c4e223b   \n",
       "1  00000c289a1829a808ac09c00daf10bc3c4e223b   \n",
       "2  00000c289a1829a808ac09c00daf10bc3c4e223b   \n",
       "3  00000c289a1829a808ac09c00daf10bc3c4e223b   \n",
       "4  00000c289a1829a808ac09c00daf10bc3c4e223b   \n",
       "5  00000c289a1829a808ac09c00daf10bc3c4e223b   \n",
       "6  00000c289a1829a808ac09c00daf10bc3c4e223b   \n",
       "7  00000c289a1829a808ac09c00daf10bc3c4e223b   \n",
       "8  00000c289a1829a808ac09c00daf10bc3c4e223b   \n",
       "9  00000c289a1829a808ac09c00daf10bc3c4e223b   \n",
       "\n",
       "                                   mbid               artistname  plays  \\\n",
       "0  3bd73256-3905-4f3a-97e2-8b341527f805          betty blowtorch   2137   \n",
       "1  f2fb0ff0-5679-42ec-a55c-15109ce6e320                die Ärzte   1099   \n",
       "2  b3ae82c2-e60b-4551-a76d-6620f1b456aa        melissa etheridge    897   \n",
       "3  3d6bbeb7-f90e-4d10-b440-e153c0d10b53                elvenking    717   \n",
       "4  bbd2ffd7-17f4-4506-8572-c1ea58c3f9a8     juliette & the licks    706   \n",
       "5  8bfac288-ccc5-448d-9573-c33ea2aa5c30    red hot chili peppers    691   \n",
       "6  6531c8b1-76ea-4141-b270-eb1ac5b41375                   magica    545   \n",
       "7  21f3573f-10cf-44b3-aeaa-26cccd8448b5  the black dahlia murder    507   \n",
       "8  c5db90c4-580d-4f33-b364-fbaa5a3a58b5              the murmurs    424   \n",
       "9  0639533a-0402-40ba-b6e0-18b067198b73               lunachicks    403   \n",
       "\n",
       "  gender   age  country registration  \n",
       "0      f  22.0  Germany  Feb 1, 2007  \n",
       "1      f  22.0  Germany  Feb 1, 2007  \n",
       "2      f  22.0  Germany  Feb 1, 2007  \n",
       "3      f  22.0  Germany  Feb 1, 2007  \n",
       "4      f  22.0  Germany  Feb 1, 2007  \n",
       "5      f  22.0  Germany  Feb 1, 2007  \n",
       "6      f  22.0  Germany  Feb 1, 2007  \n",
       "7      f  22.0  Germany  Feb 1, 2007  \n",
       "8      f  22.0  Germany  Feb 1, 2007  \n",
       "9      f  22.0  Germany  Feb 1, 2007  "
      ]
     },
     "metadata": {},
     "output_type": "display_data"
    },
    {
     "name": "stderr",
     "output_type": "stream",
     "text": [
      "Unique Artists: 133086\n",
      "Unique Users: 358854\n",
      "Entries: 17238522\n"
     ]
    }
   ],
   "source": [
    "# Display data sample and some stats\n",
    "display(df.head(10))\n",
    "logger.info('Unique Artists: {}'.format(len(df['artistname'].unique())))\n",
    "logger.info('Unique Users: {}'.format(len(df['usersha1'].unique())))\n",
    "logger.info('Entries: {}'.format(len(df)))"
   ]
  },
  {
   "cell_type": "markdown",
   "metadata": {},
   "source": [
    "## MusicBrainz ID (MBID) to Artist Mapping"
   ]
  },
  {
   "cell_type": "code",
   "execution_count": 3,
   "metadata": {},
   "outputs": [
    {
     "name": "stderr",
     "output_type": "stream",
     "text": [
      "Loaded mbid_to_artist.csv\n"
     ]
    }
   ],
   "source": [
    "mbid_to_artist = pd.read_csv('dataset/mbid_to_artist.csv', index_col=0)\n",
    "\n",
    "logger.info('Loaded mbid_to_artist.csv')"
   ]
  },
  {
   "cell_type": "markdown",
   "metadata": {},
   "source": [
    "## Only look at the top artists\n",
    "\n",
    "We take the numArtists parameter and look at that many artists, currently set to 1000 (the actual number will be ~950 since we can't get audio samples for every artist). This provides a massive amount of data, while still reasonably covering a very large number of artists. Generating data for the entire dataset would generate a prohibitively large amount of data, and create the potential of overfitting to extremely obscure artists. We do this by taking the previously-generated list of artists, for which we have audio data, and filtering the rest out of the dataset."
   ]
  },
  {
   "cell_type": "code",
   "execution_count": 10,
   "metadata": {},
   "outputs": [
    {
     "name": "stderr",
     "output_type": "stream",
     "text": [
      "Loaded unique_artists.csv\n"
     ]
    },
    {
     "data": {
      "text/html": [
       "<div>\n",
       "<style scoped>\n",
       "    .dataframe tbody tr th:only-of-type {\n",
       "        vertical-align: middle;\n",
       "    }\n",
       "\n",
       "    .dataframe tbody tr th {\n",
       "        vertical-align: top;\n",
       "    }\n",
       "\n",
       "    .dataframe thead th {\n",
       "        text-align: right;\n",
       "    }\n",
       "</style>\n",
       "<table border=\"1\" class=\"dataframe\">\n",
       "  <thead>\n",
       "    <tr style=\"text-align: right;\">\n",
       "      <th></th>\n",
       "      <th>listeners</th>\n",
       "    </tr>\n",
       "  </thead>\n",
       "  <tbody>\n",
       "    <tr>\n",
       "      <th>a74b1b7f-71a5-4011-9441-d0b5e4122711</th>\n",
       "      <td>77253</td>\n",
       "    </tr>\n",
       "    <tr>\n",
       "      <th>b10bbbfc-cf9e-42e0-be17-e2c3e1d2600d</th>\n",
       "      <td>76270</td>\n",
       "    </tr>\n",
       "    <tr>\n",
       "      <th>cc197bad-dc9c-440d-a5b5-d52ba2e14234</th>\n",
       "      <td>66658</td>\n",
       "    </tr>\n",
       "    <tr>\n",
       "      <th>8bfac288-ccc5-448d-9573-c33ea2aa5c30</th>\n",
       "      <td>48926</td>\n",
       "    </tr>\n",
       "    <tr>\n",
       "      <th>9c9f1380-2516-4fc9-a3e6-f9f61941d090</th>\n",
       "      <td>46954</td>\n",
       "    </tr>\n",
       "    <tr>\n",
       "      <th>65f4f0c5-ef9e-490c-aee3-909e7ae6b2ab</th>\n",
       "      <td>45233</td>\n",
       "    </tr>\n",
       "    <tr>\n",
       "      <th>83d91898-7763-47d7-b03b-b92132375c47</th>\n",
       "      <td>44443</td>\n",
       "    </tr>\n",
       "    <tr>\n",
       "      <th>95e1ead9-4d31-4808-a7ac-32c3614c116b</th>\n",
       "      <td>41229</td>\n",
       "    </tr>\n",
       "    <tr>\n",
       "      <th>f59c5520-5f46-4d2c-b2c4-822eabf53419</th>\n",
       "      <td>39774</td>\n",
       "    </tr>\n",
       "    <tr>\n",
       "      <th>cc0b7089-c08d-4c10-b6b0-873582c17fd6</th>\n",
       "      <td>37269</td>\n",
       "    </tr>\n",
       "  </tbody>\n",
       "</table>\n",
       "</div>"
      ],
      "text/plain": [
       "                                      listeners\n",
       "a74b1b7f-71a5-4011-9441-d0b5e4122711      77253\n",
       "b10bbbfc-cf9e-42e0-be17-e2c3e1d2600d      76270\n",
       "cc197bad-dc9c-440d-a5b5-d52ba2e14234      66658\n",
       "8bfac288-ccc5-448d-9573-c33ea2aa5c30      48926\n",
       "9c9f1380-2516-4fc9-a3e6-f9f61941d090      46954\n",
       "65f4f0c5-ef9e-490c-aee3-909e7ae6b2ab      45233\n",
       "83d91898-7763-47d7-b03b-b92132375c47      44443\n",
       "95e1ead9-4d31-4808-a7ac-32c3614c116b      41229\n",
       "f59c5520-5f46-4d2c-b2c4-822eabf53419      39774\n",
       "cc0b7089-c08d-4c10-b6b0-873582c17fd6      37269"
      ]
     },
     "metadata": {},
     "output_type": "display_data"
    }
   ],
   "source": [
    "uniqueartists = pd.read_csv('dataset/uniqueartists.csv', index_col = 0)\n",
    "\n",
    "logger.info('Loaded unique_artists.csv')\n",
    "display(uniqueartists.head(10))"
   ]
  },
  {
   "cell_type": "code",
   "execution_count": 11,
   "metadata": {},
   "outputs": [
    {
     "name": "stderr",
     "output_type": "stream",
     "text": [
      "Loading tracks.json and filtering out artists which don't have any audio data\n"
     ]
    },
    {
     "ename": "NameError",
     "evalue": "name 'df' is not defined",
     "output_type": "error",
     "traceback": [
      "\u001b[0;31m---------------------------------------------------------------------------\u001b[0m",
      "\u001b[0;31mNameError\u001b[0m                                 Traceback (most recent call last)",
      "\u001b[0;32m<ipython-input-11-c90a9155a767>\u001b[0m in \u001b[0;36m<module>\u001b[0;34m()\u001b[0m\n\u001b[1;32m      9\u001b[0m \u001b[0mtopartists\u001b[0m \u001b[0;34m=\u001b[0m \u001b[0mtopartists\u001b[0m\u001b[0;34m[\u001b[0m\u001b[0mtopartists\u001b[0m\u001b[0;34m.\u001b[0m\u001b[0misin\u001b[0m\u001b[0;34m(\u001b[0m\u001b[0mflat_track_urls\u001b[0m\u001b[0;34m.\u001b[0m\u001b[0mkeys\u001b[0m\u001b[0;34m(\u001b[0m\u001b[0;34m)\u001b[0m\u001b[0;34m)\u001b[0m\u001b[0;34m]\u001b[0m\u001b[0;34m\u001b[0m\u001b[0m\n\u001b[1;32m     10\u001b[0m \u001b[0;34m\u001b[0m\u001b[0m\n\u001b[0;32m---> 11\u001b[0;31m \u001b[0msubsetdf\u001b[0m \u001b[0;34m=\u001b[0m \u001b[0mdf\u001b[0m\u001b[0;34m[\u001b[0m\u001b[0mdf\u001b[0m\u001b[0;34m[\u001b[0m\u001b[0;34m'mbid'\u001b[0m\u001b[0;34m]\u001b[0m\u001b[0;34m.\u001b[0m\u001b[0misin\u001b[0m\u001b[0;34m(\u001b[0m\u001b[0mtopartists\u001b[0m\u001b[0;34m)\u001b[0m\u001b[0;34m]\u001b[0m\u001b[0;34m\u001b[0m\u001b[0m\n\u001b[0m\u001b[1;32m     12\u001b[0m \u001b[0msubsetdf\u001b[0m\u001b[0;34m.\u001b[0m\u001b[0mhead\u001b[0m\u001b[0;34m(\u001b[0m\u001b[0;36m10\u001b[0m\u001b[0;34m)\u001b[0m\u001b[0;34m\u001b[0m\u001b[0m\n\u001b[1;32m     13\u001b[0m \u001b[0;34m\u001b[0m\u001b[0m\n",
      "\u001b[0;31mNameError\u001b[0m: name 'df' is not defined"
     ]
    }
   ],
   "source": [
    "logger.info('Loading tracks.json and filtering out artists which don\\'t have any audio data')\n",
    "\n",
    "f = open('dataset/tracks.json','r')\n",
    "flat_track_urls = json.load(f)\n",
    "f.close()\n",
    "\n",
    "# Only look at top numArtists artists, otherwise too much data to parse through in a reasonable timeframe\n",
    "topartists = uniqueartists.sort_values(ascending=False, by='listeners').head(params['numArtists']).index\n",
    "topartists = topartists[topartists.isin(flat_track_urls.keys())]\n",
    "\n",
    "subsetdf = df[df['mbid'].isin(topartists)]\n",
    "subsetdf.head(10)\n",
    "\n",
    "logger.info('Artists filtered, filtered dataset contains {} artists'.format(len(topartists)))"
   ]
  },
  {
   "cell_type": "markdown",
   "metadata": {},
   "source": [
    "## Calculate crosstab of the dataset\n",
    "\n",
    "This creates a symmetrical matrix with every artist MBID (MBIDs chosen since there are several artists with the same name, and the MBID is a guaranteed unique identifier) as column and row headers, and cells containing the number of users who listen to both artists. For example, the cell corresponding to `df['the beatles']['radiohead']` (substitute MBIDs for band names) contains the number of users who have listened to both Radiohead and The Beatles at least once. Along the diagonal is the number of users who listen to each given artist."
   ]
  },
  {
   "cell_type": "code",
   "execution_count": 9,
   "metadata": {},
   "outputs": [
    {
     "name": "stderr",
     "output_type": "stream",
     "text": [
      "Calculating dataset crosstab\n"
     ]
    },
    {
     "data": {
      "application/vnd.jupyter.widget-view+json": {
       "model_id": "a077e0c5d0ff4539aafbbaf0cef186b2",
       "version_major": 2,
       "version_minor": 0
      },
      "text/plain": [
       "HBox(children=(IntProgress(value=0, max=8), HTML(value='')))"
      ]
     },
     "metadata": {},
     "output_type": "display_data"
    },
    {
     "name": "stderr",
     "output_type": "stream",
     "text": [
      "Crosstab calculation complete\n"
     ]
    },
    {
     "name": "stdout",
     "output_type": "stream",
     "text": [
      "\n"
     ]
    }
   ],
   "source": [
    "logger.info('Calculating dataset crosstab')\n",
    "\n",
    "# Create empty crosstab dataframe\n",
    "crosstab = pd.DataFrame(np.zeros((len(topartists), len(topartists))), columns=topartists, index=topartists)\n",
    "\n",
    "# Split subset dataframe into chunks, then crosstab each chunk and add it to the total DF\n",
    "for g, chunkdf in tqdm_notebook(subsetdf.groupby(np.arange(len(subsetdf)) // 1000000)):\n",
    "    # Merges chunk with itself on userID. This creates a new DF with each \n",
    "    # artist entry for a given user coupled with all other artist entries for that user\n",
    "    dd = pd.merge(chunkdf, chunkdf, on='usersha1')\n",
    "    # Crosstab method to create co-occurrence matrix\n",
    "    crosstab_tmp = pd.crosstab(dd['mbid_x'], dd['mbid_y'])\n",
    "    crosstab = crosstab.add(crosstab_tmp, fill_value=0)\n",
    "\n",
    "crosstab\n",
    "\n",
    "logger.info('Crosstab calculation complete')"
   ]
  },
  {
   "cell_type": "markdown",
   "metadata": {},
   "source": [
    "## Save/Load data"
   ]
  },
  {
   "cell_type": "code",
   "execution_count": 10,
   "metadata": {},
   "outputs": [
    {
     "name": "stderr",
     "output_type": "stream",
     "text": [
      "Saved crosstab.hd5\n"
     ]
    }
   ],
   "source": [
    "# Save to HDF5 file\n",
    "crosstab.to_hdf('dataset/crosstab.hd5', key='artists')\n",
    "\n",
    "logger.info('Saved crosstab.hd5')"
   ]
  },
  {
   "cell_type": "code",
   "execution_count": 4,
   "metadata": {},
   "outputs": [
    {
     "name": "stderr",
     "output_type": "stream",
     "text": [
      "Loaded crosstab.hd5\n"
     ]
    }
   ],
   "source": [
    "# Load from HDF5 file\n",
    "crosstab = pd.read_hdf('dataset/crosstab.hd5', key='artists')\n",
    "\n",
    "logger.info('Loaded crosstab.hd5')"
   ]
  },
  {
   "cell_type": "markdown",
   "metadata": {},
   "source": [
    "## Normalize co-occurrences by number of listeners of each artist\n",
    "\n",
    "As the diagonal contains the number of listeners for each artist, we divide the dataframe by the diagonals along the columns. This gives us a normalized value which gives the proportion of listeners of a given artist that listen to another artist. For instance, if artist A has 10 listeners who all listen to artist B, and artist B has 20 listeners, `df.loc[A,B] == 1.0` and `df.loc[B,A] == 0.5`."
   ]
  },
  {
   "cell_type": "code",
   "execution_count": 7,
   "metadata": {},
   "outputs": [
    {
     "name": "stderr",
     "output_type": "stream",
     "text": [
      "Normalizing co-occurrences\n",
      "Co-occurrences normalized\n"
     ]
    }
   ],
   "source": [
    "logger.info('Normalizing co-occurrences')\n",
    "\n",
    "counts = pd.Series(np.diag(crosstab), index=crosstab.index)\n",
    "crosstab_norm = crosstab.div(counts, axis=1)\n",
    "\n",
    "logger.info('Co-occurrences normalized')"
   ]
  },
  {
   "cell_type": "markdown",
   "metadata": {},
   "source": [
    "## Remove diagonals and scale values\n",
    "\n",
    "Remove diagonals, to remove 1.0 values, then scale along columns. Replace the diagonals with NaN, so that we can remove them later to get rid of pairings of artists with themselves."
   ]
  },
  {
   "cell_type": "code",
   "execution_count": 8,
   "metadata": {},
   "outputs": [
    {
     "name": "stderr",
     "output_type": "stream",
     "text": [
      "Scaling co-occurrence matrix\n",
      "Co-occurrence matrix scaled\n"
     ]
    }
   ],
   "source": [
    "logger.info('Scaling co-occurrence matrix')\n",
    "\n",
    "np.fill_diagonal(crosstab_norm.values, 0)\n",
    "vals = crosstab_norm.values\n",
    "min_max_scaler = preprocessing.MinMaxScaler()\n",
    "vals_scaled = min_max_scaler.fit_transform(vals)\n",
    "crosstab_norm_scaled = pd.DataFrame(vals_scaled, columns=crosstab_norm.columns, index=crosstab_norm.index)\n",
    "np.fill_diagonal(crosstab_norm_scaled.values, np.nan)\n",
    "\n",
    "logger.info('Co-occurrence matrix scaled')"
   ]
  },
  {
   "cell_type": "markdown",
   "metadata": {},
   "source": [
    "## Stack dataframe\n",
    "\n",
    "Stacks the dataframe, converting the grid into a list. This is done to simplify splitting the dataset into a training, dev, and test set.\n",
    "\n",
    "NOTE: This reverses the A/B relation above."
   ]
  },
  {
   "cell_type": "code",
   "execution_count": 9,
   "metadata": {},
   "outputs": [
    {
     "name": "stderr",
     "output_type": "stream",
     "text": [
      "Stacking co-occurrence matrix\n",
      "Co-occurrence matrix stacked\n"
     ]
    }
   ],
   "source": [
    "logger.info('Stacking co-occurrence matrix')\n",
    "\n",
    "crosstab_norm_scaled_stack = crosstab_norm_scaled.stack()\n",
    "\n",
    "logger.info('Co-occurrence matrix stacked')"
   ]
  },
  {
   "cell_type": "code",
   "execution_count": 10,
   "metadata": {},
   "outputs": [
    {
     "data": {
      "text/plain": [
       "1.0"
      ]
     },
     "metadata": {},
     "output_type": "display_data"
    },
    {
     "data": {
      "text/plain": [
       "1.0"
      ]
     },
     "metadata": {},
     "output_type": "display_data"
    },
    {
     "data": {
      "text/plain": [
       "0.9999999999999999"
      ]
     },
     "metadata": {},
     "output_type": "display_data"
    },
    {
     "data": {
      "text/html": [
       "<div>\n",
       "<style scoped>\n",
       "    .dataframe tbody tr th:only-of-type {\n",
       "        vertical-align: middle;\n",
       "    }\n",
       "\n",
       "    .dataframe tbody tr th {\n",
       "        vertical-align: top;\n",
       "    }\n",
       "\n",
       "    .dataframe thead th {\n",
       "        text-align: right;\n",
       "    }\n",
       "</style>\n",
       "<table border=\"1\" class=\"dataframe\">\n",
       "  <thead>\n",
       "    <tr style=\"text-align: right;\">\n",
       "      <th></th>\n",
       "      <th>val</th>\n",
       "      <th>artistname</th>\n",
       "    </tr>\n",
       "  </thead>\n",
       "  <tbody>\n",
       "    <tr>\n",
       "      <th>a74b1b7f-71a5-4011-9441-d0b5e4122711</th>\n",
       "      <td>1.000000</td>\n",
       "      <td>radiohead</td>\n",
       "    </tr>\n",
       "    <tr>\n",
       "      <th>cc197bad-dc9c-440d-a5b5-d52ba2e14234</th>\n",
       "      <td>0.709293</td>\n",
       "      <td>coldplay</td>\n",
       "    </tr>\n",
       "    <tr>\n",
       "      <th>83d91898-7763-47d7-b03b-b92132375c47</th>\n",
       "      <td>0.707252</td>\n",
       "      <td>pink floyd</td>\n",
       "    </tr>\n",
       "    <tr>\n",
       "      <th>72c536dc-7137-4477-a521-567eeb840fa8</th>\n",
       "      <td>0.623486</td>\n",
       "      <td>bob dylan</td>\n",
       "    </tr>\n",
       "    <tr>\n",
       "      <th>b071f9fa-14b0-4217-8e97-eb41da73f598</th>\n",
       "      <td>0.582070</td>\n",
       "      <td>the rolling stones</td>\n",
       "    </tr>\n",
       "    <tr>\n",
       "      <th>678d88b2-87b0-403b-b63d-5da7465aecc3</th>\n",
       "      <td>0.577503</td>\n",
       "      <td>led zeppelin</td>\n",
       "    </tr>\n",
       "    <tr>\n",
       "      <th>8bfac288-ccc5-448d-9573-c33ea2aa5c30</th>\n",
       "      <td>0.563179</td>\n",
       "      <td>red hot chili peppers</td>\n",
       "    </tr>\n",
       "    <tr>\n",
       "      <th>5441c29d-3602-4898-b1a1-b77fa23b8e50</th>\n",
       "      <td>0.543284</td>\n",
       "      <td>david bowie</td>\n",
       "    </tr>\n",
       "    <tr>\n",
       "      <th>0383dadf-2a4e-4d10-a46a-e9e041da8eb3</th>\n",
       "      <td>0.509653</td>\n",
       "      <td>queen</td>\n",
       "    </tr>\n",
       "    <tr>\n",
       "      <th>9c9f1380-2516-4fc9-a3e6-f9f61941d090</th>\n",
       "      <td>0.470694</td>\n",
       "      <td>muse</td>\n",
       "    </tr>\n",
       "  </tbody>\n",
       "</table>\n",
       "</div>"
      ],
      "text/plain": [
       "                                           val             artistname\n",
       "a74b1b7f-71a5-4011-9441-d0b5e4122711  1.000000              radiohead\n",
       "cc197bad-dc9c-440d-a5b5-d52ba2e14234  0.709293               coldplay\n",
       "83d91898-7763-47d7-b03b-b92132375c47  0.707252             pink floyd\n",
       "72c536dc-7137-4477-a521-567eeb840fa8  0.623486              bob dylan\n",
       "b071f9fa-14b0-4217-8e97-eb41da73f598  0.582070     the rolling stones\n",
       "678d88b2-87b0-403b-b63d-5da7465aecc3  0.577503           led zeppelin\n",
       "8bfac288-ccc5-448d-9573-c33ea2aa5c30  0.563179  red hot chili peppers\n",
       "5441c29d-3602-4898-b1a1-b77fa23b8e50  0.543284            david bowie\n",
       "0383dadf-2a4e-4d10-a46a-e9e041da8eb3  0.509653                  queen\n",
       "9c9f1380-2516-4fc9-a3e6-f9f61941d090  0.470694                   muse"
      ]
     },
     "metadata": {},
     "output_type": "display_data"
    }
   ],
   "source": [
    "the_beatles_mbid = mbid_to_artist[mbid_to_artist['artistname'] == 'the beatles'].index[0]\n",
    "radiohead_mbid = mbid_to_artist[mbid_to_artist['artistname'] == 'radiohead'].index[0]\n",
    "display(crosstab_norm_scaled.loc[the_beatles_mbid,radiohead_mbid])\n",
    "display(crosstab_norm_scaled_stack.loc[the_beatles_mbid,radiohead_mbid])\n",
    "display(crosstab_norm_scaled_stack.loc[radiohead_mbid,the_beatles_mbid])\n",
    "display(crosstab_norm_scaled[the_beatles_mbid].sort_values(ascending=False).head(10).to_frame(name = 'val').join(mbid_to_artist))"
   ]
  },
  {
   "cell_type": "markdown",
   "metadata": {},
   "source": [
    "## Split the dataset and save\n",
    "\n",
    "Split the dataset by random sampling. 98% training set, 1% dev set, 1% test set"
   ]
  },
  {
   "cell_type": "code",
   "execution_count": 11,
   "metadata": {},
   "outputs": [
    {
     "name": "stderr",
     "output_type": "stream",
     "text": [
      "Splitting dataset into train/dev/test sets\n"
     ]
    }
   ],
   "source": [
    "logger.info('Splitting dataset into train/dev/test sets')\n",
    "\n",
    "train, devtest = train_test_split(crosstab_norm_scaled_stack, test_size=0.02, random_state = 1)\n",
    "dev, test = train_test_split(devtest, test_size=0.5, random_state = 2)"
   ]
  },
  {
   "cell_type": "code",
   "execution_count": 18,
   "metadata": {},
   "outputs": [
    {
     "name": "stderr",
     "output_type": "stream",
     "text": [
      "Total dataset size: 949650\n",
      "Training set size: 930657\n",
      "Dev set size: 9496\n",
      "Test set size: 9497\n"
     ]
    }
   ],
   "source": [
    "logger.info('Total dataset size: {}'.format(len(crosstab_norm_scaled_stack)))\n",
    "logger.info('Training set size: {}'.format(len(train)))\n",
    "logger.info('Dev set size: {}'.format(len(dev)))\n",
    "logger.info('Test set size: {}'.format(len(test)))"
   ]
  },
  {
   "cell_type": "code",
   "execution_count": 19,
   "metadata": {},
   "outputs": [
    {
     "name": "stderr",
     "output_type": "stream",
     "text": [
      "Saving split dataset\n",
      "Split dataset saved\n"
     ]
    }
   ],
   "source": [
    "# Save all to HDF5 files\n",
    "logger.info('Saving split dataset')\n",
    "\n",
    "train.to_hdf('dataset/train.hd5', key='artists')\n",
    "dev.to_hdf('dataset/dev.hd5', key='artists')\n",
    "test.to_hdf('dataset/test.hd5', key='artists')\n",
    "\n",
    "logger.info('Split dataset saved')"
   ]
  },
  {
   "cell_type": "markdown",
   "metadata": {},
   "source": [
    "## Alternate metric using minimum then normalization across artist\n",
    "\n",
    "The following sections process the data in an alternative way, by taking `min(df[A,B], df[B,A])` and using that as the value for both artists, then normalizing along columns. This should make obscure artists more prominent among other obscure artists, as an issue with the current method of data processing is that there are very popular bands that are highly-ranked among similar artists. This means that almost all rock bands will have very popular rock bands like The Beatles or Radiohead ranked highly, when the person would presumably prefer to have more obscure artists suggested. This may or may not subjectively work better.\n",
    "\n",
    "Prior to stacking, the upper triangle of the dataframe was set to NA to remove duplicate entries, since `df[A][B] == df[B][A]`.\n",
    "\n",
    "All files and variables have the `_min` suffix.\n",
    "\n",
    "**This is the method I ultimately went with, since I ended up training a siamese network, where input order would have not mattered.**"
   ]
  },
  {
   "cell_type": "code",
   "execution_count": 5,
   "metadata": {},
   "outputs": [
    {
     "name": "stderr",
     "output_type": "stream",
     "text": [
      "Re-calculating and normalizing dataset using alternative minimum-based metric\n",
      "Re-calculation and normalization complete\n"
     ]
    }
   ],
   "source": [
    "logger.info('Re-calculating and normalizing dataset using alternative minimum-based metric')\n",
    "\n",
    "counts = pd.Series(np.diag(crosstab), index=crosstab.index)\n",
    "crosstab_norm = crosstab.div(counts, axis=1)\n",
    "minidx = crosstab_norm < crosstab_norm.T\n",
    "crosstab_norm_min = crosstab_norm[minidx].fillna(0) + crosstab_norm.T[~minidx].fillna(0)\n",
    "\n",
    "logger.info('Re-calculation and normalization complete')"
   ]
  },
  {
   "cell_type": "code",
   "execution_count": 6,
   "metadata": {},
   "outputs": [
    {
     "name": "stderr",
     "output_type": "stream",
     "text": [
      "Re-scaling min dataset\n",
      "Min dataset re-scaled\n"
     ]
    }
   ],
   "source": [
    "logger.info('Re-scaling min dataset')\n",
    "\n",
    "np.fill_diagonal(crosstab_norm_min.values, 0)\n",
    "vals = crosstab_norm_min.values\n",
    "vals_scaled = (vals - np.nanmin(vals)) / (np.nanmax(vals)- np.nanmin(vals))\n",
    "crosstab_norm_min_scaled = pd.DataFrame(vals_scaled, columns=crosstab_norm_min.columns, index=crosstab_norm_min.index)\n",
    "np.fill_diagonal(crosstab_norm_min_scaled.values, np.nan)\n",
    "\n",
    "logger.info('Min dataset re-scaled')"
   ]
  },
  {
   "cell_type": "code",
   "execution_count": 7,
   "metadata": {},
   "outputs": [
    {
     "name": "stderr",
     "output_type": "stream",
     "text": [
      "Stacking min dataset\n",
      "Min dataset stacked\n"
     ]
    }
   ],
   "source": [
    "logger.info('Stacking min dataset')\n",
    "\n",
    "crosstab_norm_min_scaled = crosstab_norm_min_scaled.where(~np.triu(np.ones(crosstab_norm_min_scaled.shape)).astype(np.bool))\n",
    "crosstab_norm_min_scaled_stack = crosstab_norm_min_scaled.stack()\n",
    "\n",
    "logger.info('Min dataset stacked')"
   ]
  },
  {
   "cell_type": "code",
   "execution_count": 26,
   "metadata": {
    "scrolled": true
   },
   "outputs": [
    {
     "name": "stderr",
     "output_type": "stream",
     "text": [
      "Splitting min dataset into train/dev/test sets\n"
     ]
    }
   ],
   "source": [
    "logger.info('Splitting min dataset into train/dev/test sets')\n",
    "\n",
    "# Split into artists rather than datapoints. Here, we take 10% of the artists (~100) to split betwen test/dev\n",
    "# sets, then the remaining artists are used to train. The training and dev sets only contain matrix values\n",
    "# for their respective artists, while the test set will contain values for test/test artists and test/train artist pairings\n",
    "train_artists, devtest_artists = train_test_split(topartists, test_size=0.10, random_state = 1)\n",
    "dev_artists, test_artists = train_test_split(devtest_artists, test_size=0.5, random_state = 2)\n",
    "dev_min = crosstab_norm_min_scaled_stack[list(itertools.product(dev_artists, repeat=2))].dropna()\n",
    "train_min = crosstab_norm_min_scaled_stack[list(itertools.product(train_artists, repeat=2))].dropna()\n",
    "test_min = crosstab_norm_min_scaled_stack[list(itertools.product(test_artists, repeat=2))\n",
    "                                          + list(itertools.product(test_artists, train_artists))\n",
    "                                          + list(itertools.product(train_artists, test_artists))].dropna()"
   ]
  },
  {
   "cell_type": "code",
   "execution_count": 30,
   "metadata": {},
   "outputs": [
    {
     "data": {
      "text/plain": [
       "49"
      ]
     },
     "execution_count": 30,
     "metadata": {},
     "output_type": "execute_result"
    }
   ],
   "source": [
    "len(dev_artists)"
   ]
  },
  {
   "cell_type": "code",
   "execution_count": 28,
   "metadata": {},
   "outputs": [
    {
     "name": "stderr",
     "output_type": "stream",
     "text": [
      "Total min dataset size: 474825\n",
      "Min training set size: 384126\n",
      "Min dev set size: 1176\n",
      "Min test set size: 44149\n"
     ]
    }
   ],
   "source": [
    "logger.info('Total min dataset size: {}'.format(len(crosstab_norm_min_scaled_stack)))\n",
    "logger.info('Min training set size: {}'.format(len(train_min)))\n",
    "logger.info('Min dev set size: {}'.format(len(dev_min)))\n",
    "logger.info('Min test set size: {}'.format(len(test_min)))"
   ]
  },
  {
   "cell_type": "code",
   "execution_count": 19,
   "metadata": {},
   "outputs": [
    {
     "name": "stderr",
     "output_type": "stream",
     "text": [
      "Saving split min dataset\n",
      "Split min dataset saved\n"
     ]
    }
   ],
   "source": [
    "logger.info('Saving split min dataset')\n",
    "\n",
    "# Save all to HDF5 files\n",
    "train_min.to_hdf('dataset/train_min.hd5', key='artists')\n",
    "dev_min.to_hdf('dataset/dev_min.hd5', key='artists')\n",
    "test_min.to_hdf('dataset/test_min.hd5', key='artists')\n",
    "\n",
    "logger.info('Split min dataset saved')"
   ]
  },
  {
   "cell_type": "code",
   "execution_count": 79,
   "metadata": {},
   "outputs": [
    {
     "data": {
      "text/html": [
       "<div>\n",
       "<style scoped>\n",
       "    .dataframe tbody tr th:only-of-type {\n",
       "        vertical-align: middle;\n",
       "    }\n",
       "\n",
       "    .dataframe tbody tr th {\n",
       "        vertical-align: top;\n",
       "    }\n",
       "\n",
       "    .dataframe thead th {\n",
       "        text-align: right;\n",
       "    }\n",
       "</style>\n",
       "<table border=\"1\" class=\"dataframe\">\n",
       "  <thead>\n",
       "    <tr style=\"text-align: right;\">\n",
       "      <th></th>\n",
       "      <th>val</th>\n",
       "      <th>artistname</th>\n",
       "    </tr>\n",
       "  </thead>\n",
       "  <tbody>\n",
       "    <tr>\n",
       "      <th>65f4f0c5-ef9e-490c-aee3-909e7ae6b2ab</th>\n",
       "      <td>1.000000</td>\n",
       "      <td>metallica</td>\n",
       "    </tr>\n",
       "    <tr>\n",
       "      <th>cc0b7089-c08d-4c10-b6b0-873582c17fd6</th>\n",
       "      <td>0.759507</td>\n",
       "      <td>system of a down</td>\n",
       "    </tr>\n",
       "    <tr>\n",
       "      <th>f57e14e4-b030-467c-b202-539453f504ec</th>\n",
       "      <td>0.754825</td>\n",
       "      <td>children of bodom</td>\n",
       "    </tr>\n",
       "    <tr>\n",
       "      <th>ca891d65-d9b0-4258-89f7-e6ba29d83767</th>\n",
       "      <td>0.641658</td>\n",
       "      <td>iron maiden</td>\n",
       "    </tr>\n",
       "    <tr>\n",
       "      <th>00a9f935-ba93-4fc8-a33a-993abe9c936b</th>\n",
       "      <td>0.605915</td>\n",
       "      <td>nightwish</td>\n",
       "    </tr>\n",
       "    <tr>\n",
       "      <th>a466c2a2-6517-42fb-a160-1087c3bafd9f</th>\n",
       "      <td>0.602604</td>\n",
       "      <td>slipknot</td>\n",
       "    </tr>\n",
       "    <tr>\n",
       "      <th>b2d122f9-eadb-4930-a196-8f221eeb0c66</th>\n",
       "      <td>0.585474</td>\n",
       "      <td>rammstein</td>\n",
       "    </tr>\n",
       "    <tr>\n",
       "      <th>4bb4e4e4-5f66-4509-98af-62dbb90c45c5</th>\n",
       "      <td>0.550417</td>\n",
       "      <td>disturbed</td>\n",
       "    </tr>\n",
       "    <tr>\n",
       "      <th>9d30e408-1559-448b-b491-2f8de1583ccf</th>\n",
       "      <td>0.533059</td>\n",
       "      <td>dark tranquillity</td>\n",
       "    </tr>\n",
       "    <tr>\n",
       "      <th>f59c5520-5f46-4d2c-b2c4-822eabf53419</th>\n",
       "      <td>0.499144</td>\n",
       "      <td>linkin park</td>\n",
       "    </tr>\n",
       "  </tbody>\n",
       "</table>\n",
       "</div>"
      ],
      "text/plain": [
       "                                           val         artistname\n",
       "65f4f0c5-ef9e-490c-aee3-909e7ae6b2ab  1.000000          metallica\n",
       "cc0b7089-c08d-4c10-b6b0-873582c17fd6  0.759507   system of a down\n",
       "f57e14e4-b030-467c-b202-539453f504ec  0.754825  children of bodom\n",
       "ca891d65-d9b0-4258-89f7-e6ba29d83767  0.641658        iron maiden\n",
       "00a9f935-ba93-4fc8-a33a-993abe9c936b  0.605915          nightwish\n",
       "a466c2a2-6517-42fb-a160-1087c3bafd9f  0.602604           slipknot\n",
       "b2d122f9-eadb-4930-a196-8f221eeb0c66  0.585474          rammstein\n",
       "4bb4e4e4-5f66-4509-98af-62dbb90c45c5  0.550417          disturbed\n",
       "9d30e408-1559-448b-b491-2f8de1583ccf  0.533059  dark tranquillity\n",
       "f59c5520-5f46-4d2c-b2c4-822eabf53419  0.499144        linkin park"
      ]
     },
     "metadata": {},
     "output_type": "display_data"
    },
    {
     "data": {
      "text/html": [
       "<div>\n",
       "<style scoped>\n",
       "    .dataframe tbody tr th:only-of-type {\n",
       "        vertical-align: middle;\n",
       "    }\n",
       "\n",
       "    .dataframe tbody tr th {\n",
       "        vertical-align: top;\n",
       "    }\n",
       "\n",
       "    .dataframe thead th {\n",
       "        text-align: right;\n",
       "    }\n",
       "</style>\n",
       "<table border=\"1\" class=\"dataframe\">\n",
       "  <thead>\n",
       "    <tr style=\"text-align: right;\">\n",
       "      <th></th>\n",
       "      <th>val</th>\n",
       "      <th>artistname</th>\n",
       "    </tr>\n",
       "  </thead>\n",
       "  <tbody>\n",
       "    <tr>\n",
       "      <th>f57e14e4-b030-467c-b202-539453f504ec</th>\n",
       "      <td>0.765308</td>\n",
       "      <td>children of bodom</td>\n",
       "    </tr>\n",
       "    <tr>\n",
       "      <th>a466c2a2-6517-42fb-a160-1087c3bafd9f</th>\n",
       "      <td>0.610973</td>\n",
       "      <td>slipknot</td>\n",
       "    </tr>\n",
       "    <tr>\n",
       "      <th>4bb4e4e4-5f66-4509-98af-62dbb90c45c5</th>\n",
       "      <td>0.558062</td>\n",
       "      <td>disturbed</td>\n",
       "    </tr>\n",
       "    <tr>\n",
       "      <th>9d30e408-1559-448b-b491-2f8de1583ccf</th>\n",
       "      <td>0.540463</td>\n",
       "      <td>dark tranquillity</td>\n",
       "    </tr>\n",
       "    <tr>\n",
       "      <th>ca891d65-d9b0-4258-89f7-e6ba29d83767</th>\n",
       "      <td>0.512374</td>\n",
       "      <td>iron maiden</td>\n",
       "    </tr>\n",
       "    <tr>\n",
       "      <th>e631bb92-3e2b-43e3-a2cb-b605e2fb53bd</th>\n",
       "      <td>0.503992</td>\n",
       "      <td>arch enemy</td>\n",
       "    </tr>\n",
       "    <tr>\n",
       "      <th>5b687684-ad34-4a9f-b425-0e7aa81fbd38</th>\n",
       "      <td>0.491488</td>\n",
       "      <td>amon amarth</td>\n",
       "    </tr>\n",
       "    <tr>\n",
       "      <th>d8d1b067-78bb-4db7-8f91-db2ff9a83ee5</th>\n",
       "      <td>0.491372</td>\n",
       "      <td>soilwork</td>\n",
       "    </tr>\n",
       "    <tr>\n",
       "      <th>c14b4180-dc87-481e-b17a-64e4150f90f6</th>\n",
       "      <td>0.487088</td>\n",
       "      <td>opeth</td>\n",
       "    </tr>\n",
       "    <tr>\n",
       "      <th>ac865b2e-bba8-4f5a-8756-dd40d5e39f46</th>\n",
       "      <td>0.471867</td>\n",
       "      <td>koЯn</td>\n",
       "    </tr>\n",
       "  </tbody>\n",
       "</table>\n",
       "</div>"
      ],
      "text/plain": [
       "                                           val         artistname\n",
       "f57e14e4-b030-467c-b202-539453f504ec  0.765308  children of bodom\n",
       "a466c2a2-6517-42fb-a160-1087c3bafd9f  0.610973           slipknot\n",
       "4bb4e4e4-5f66-4509-98af-62dbb90c45c5  0.558062          disturbed\n",
       "9d30e408-1559-448b-b491-2f8de1583ccf  0.540463  dark tranquillity\n",
       "ca891d65-d9b0-4258-89f7-e6ba29d83767  0.512374        iron maiden\n",
       "e631bb92-3e2b-43e3-a2cb-b605e2fb53bd  0.503992         arch enemy\n",
       "5b687684-ad34-4a9f-b425-0e7aa81fbd38  0.491488        amon amarth\n",
       "d8d1b067-78bb-4db7-8f91-db2ff9a83ee5  0.491372           soilwork\n",
       "c14b4180-dc87-481e-b17a-64e4150f90f6  0.487088              opeth\n",
       "ac865b2e-bba8-4f5a-8756-dd40d5e39f46  0.471867               koЯn"
      ]
     },
     "metadata": {},
     "output_type": "display_data"
    }
   ],
   "source": [
    "# Compare the two methods for a somewhat niche artist I'm personally familiar with.\n",
    "# The second 'min' method looks subjectively better!\n",
    "mbid = mbid_to_artist[mbid_to_artist['artistname'] == 'in flames'].index[0]\n",
    "display(crosstab_norm_scaled[mbid].sort_values(ascending=False).head(10).to_frame(name = 'val').join(mbid_to_artist))\n",
    "display(crosstab_norm_min_scaled[mbid].sort_values(ascending=False).head(10).to_frame(name = 'val').join(mbid_to_artist))"
   ]
  },
  {
   "cell_type": "markdown",
   "metadata": {},
   "source": [
    "## Alternate method using plays\n",
    "\n",
    "The following sections do all the above steps, but instead calculate cross-tabulation using plays instead of just co-occurrences. The end result is that rather than the values corresponding to number of people who listen to artist A who also listen to artist B, the values will show number of plays of artist B per play of artist A. This may or may not end up working better. This is also nicer for model training because it results in a flatter distribution of similarity scores, which isn't as sharply exponential.\n",
    "\n",
    "All files are saved with the `_alt` suffix."
   ]
  },
  {
   "cell_type": "code",
   "execution_count": 27,
   "metadata": {
    "scrolled": true
   },
   "outputs": [
    {
     "name": "stderr",
     "output_type": "stream",
     "text": [
      "Calculating alt (plays-based) dataset crosstab\n"
     ]
    },
    {
     "data": {
      "application/vnd.jupyter.widget-view+json": {
       "model_id": "aea9e97796e94c968ba644cf3d3abe33",
       "version_major": 2,
       "version_minor": 0
      },
      "text/plain": [
       "HBox(children=(IntProgress(value=0, max=8), HTML(value='')))"
      ]
     },
     "metadata": {},
     "output_type": "display_data"
    },
    {
     "name": "stderr",
     "output_type": "stream",
     "text": [
      "Calculated alt dataset crosstab\n"
     ]
    },
    {
     "name": "stdout",
     "output_type": "stream",
     "text": [
      "\n"
     ]
    }
   ],
   "source": [
    "logger.info('Calculating alt (plays-based) dataset crosstab')\n",
    "\n",
    "# Create empty crosstab dataframe\n",
    "crosstab_alt = pd.DataFrame(np.zeros((len(topartists), len(topartists))), columns=topartists, index=topartists)\n",
    "\n",
    "# Split subset dataframe into chunks, then crosstab each chunk and add it to the total DF\n",
    "# Splitting into chunks is necessary to avoid running into memory issues\n",
    "for g, chunkdf in tqdm_notebook(subsetdf.groupby(np.arange(len(subsetdf)) // 1000000)):\n",
    "    # Merges chunk with itself on userID. This creates a new DF with each \n",
    "    # artist entry for a given user coupled with all other artist entries for that user\n",
    "    dd = pd.merge(chunkdf, chunkdf, on='usersha1')\n",
    "    # Crosstab method to create co-occurrence matrix\n",
    "    crosstab_tmp = pd.crosstab(dd['mbid_x'], dd['mbid_y'], values=dd['plays_y'], aggfunc='sum')\n",
    "    crosstab_alt = crosstab_alt.add(crosstab_tmp, fill_value=0)\n",
    "\n",
    "crosstab_alt\n",
    "\n",
    "logger.info('Calculated alt dataset crosstab')"
   ]
  },
  {
   "cell_type": "markdown",
   "metadata": {},
   "source": [
    "## Take the minimum, similar to the `_min` method, then normalize\n",
    "\n",
    "This is especially necessary for this dataset, otherwise the dataset will not reflect true preferences, and also favours artists with many listens."
   ]
  },
  {
   "cell_type": "code",
   "execution_count": 80,
   "metadata": {},
   "outputs": [
    {
     "name": "stderr",
     "output_type": "stream",
     "text": [
      "Normalizing alt co-occurrences\n",
      "Alt co-occurrences normalized\n"
     ]
    }
   ],
   "source": [
    "logger.info('Normalizing alt co-occurrences')\n",
    "\n",
    "counts = pd.Series(np.diag(crosstab_alt), index=crosstab_alt.index)\n",
    "crosstab_alt_norm = crosstab_alt.div(counts, axis=1)\n",
    "minidx = crosstab_alt_norm < crosstab_alt_norm.T\n",
    "crosstab_alt_norm = crosstab_alt_norm[minidx].fillna(0) + crosstab_alt_norm.T[~minidx].fillna(0)\n",
    "\n",
    "logger.info('Alt co-occurrences normalized')"
   ]
  },
  {
   "cell_type": "code",
   "execution_count": 81,
   "metadata": {},
   "outputs": [
    {
     "name": "stderr",
     "output_type": "stream",
     "text": [
      "Scaling alt co-occurrences\n",
      "Alt co-occurrences scaled\n"
     ]
    }
   ],
   "source": [
    "logger.info('Scaling alt co-occurrences')\n",
    "\n",
    "np.fill_diagonal(crosstab_alt_norm.values, 0)\n",
    "vals = crosstab_alt_norm.values\n",
    "min_max_scaler = preprocessing.MinMaxScaler()\n",
    "vals_scaled = (vals - np.nanmin(vals)) / (np.nanmax(vals)- np.nanmin(vals))\n",
    "crosstab_alt_norm_scaled = pd.DataFrame(vals_scaled, columns=crosstab_alt_norm.columns, index=crosstab_alt_norm.index)\n",
    "np.fill_diagonal(crosstab_alt_norm_scaled.values, np.nan)\n",
    "\n",
    "logger.info('Alt co-occurrences scaled')"
   ]
  },
  {
   "cell_type": "code",
   "execution_count": 82,
   "metadata": {},
   "outputs": [
    {
     "data": {
      "text/html": [
       "<div>\n",
       "<style scoped>\n",
       "    .dataframe tbody tr th:only-of-type {\n",
       "        vertical-align: middle;\n",
       "    }\n",
       "\n",
       "    .dataframe tbody tr th {\n",
       "        vertical-align: top;\n",
       "    }\n",
       "\n",
       "    .dataframe thead th {\n",
       "        text-align: right;\n",
       "    }\n",
       "</style>\n",
       "<table border=\"1\" class=\"dataframe\">\n",
       "  <thead>\n",
       "    <tr style=\"text-align: right;\">\n",
       "      <th></th>\n",
       "      <th>val</th>\n",
       "      <th>artistname</th>\n",
       "    </tr>\n",
       "  </thead>\n",
       "  <tbody>\n",
       "    <tr>\n",
       "      <th>f57e14e4-b030-467c-b202-539453f504ec</th>\n",
       "      <td>0.765308</td>\n",
       "      <td>children of bodom</td>\n",
       "    </tr>\n",
       "    <tr>\n",
       "      <th>a466c2a2-6517-42fb-a160-1087c3bafd9f</th>\n",
       "      <td>0.610973</td>\n",
       "      <td>slipknot</td>\n",
       "    </tr>\n",
       "    <tr>\n",
       "      <th>4bb4e4e4-5f66-4509-98af-62dbb90c45c5</th>\n",
       "      <td>0.558062</td>\n",
       "      <td>disturbed</td>\n",
       "    </tr>\n",
       "    <tr>\n",
       "      <th>9d30e408-1559-448b-b491-2f8de1583ccf</th>\n",
       "      <td>0.540463</td>\n",
       "      <td>dark tranquillity</td>\n",
       "    </tr>\n",
       "    <tr>\n",
       "      <th>ca891d65-d9b0-4258-89f7-e6ba29d83767</th>\n",
       "      <td>0.512374</td>\n",
       "      <td>iron maiden</td>\n",
       "    </tr>\n",
       "    <tr>\n",
       "      <th>e631bb92-3e2b-43e3-a2cb-b605e2fb53bd</th>\n",
       "      <td>0.503992</td>\n",
       "      <td>arch enemy</td>\n",
       "    </tr>\n",
       "    <tr>\n",
       "      <th>5b687684-ad34-4a9f-b425-0e7aa81fbd38</th>\n",
       "      <td>0.491488</td>\n",
       "      <td>amon amarth</td>\n",
       "    </tr>\n",
       "    <tr>\n",
       "      <th>d8d1b067-78bb-4db7-8f91-db2ff9a83ee5</th>\n",
       "      <td>0.491372</td>\n",
       "      <td>soilwork</td>\n",
       "    </tr>\n",
       "    <tr>\n",
       "      <th>c14b4180-dc87-481e-b17a-64e4150f90f6</th>\n",
       "      <td>0.487088</td>\n",
       "      <td>opeth</td>\n",
       "    </tr>\n",
       "    <tr>\n",
       "      <th>ac865b2e-bba8-4f5a-8756-dd40d5e39f46</th>\n",
       "      <td>0.471867</td>\n",
       "      <td>koЯn</td>\n",
       "    </tr>\n",
       "  </tbody>\n",
       "</table>\n",
       "</div>"
      ],
      "text/plain": [
       "                                           val         artistname\n",
       "f57e14e4-b030-467c-b202-539453f504ec  0.765308  children of bodom\n",
       "a466c2a2-6517-42fb-a160-1087c3bafd9f  0.610973           slipknot\n",
       "4bb4e4e4-5f66-4509-98af-62dbb90c45c5  0.558062          disturbed\n",
       "9d30e408-1559-448b-b491-2f8de1583ccf  0.540463  dark tranquillity\n",
       "ca891d65-d9b0-4258-89f7-e6ba29d83767  0.512374        iron maiden\n",
       "e631bb92-3e2b-43e3-a2cb-b605e2fb53bd  0.503992         arch enemy\n",
       "5b687684-ad34-4a9f-b425-0e7aa81fbd38  0.491488        amon amarth\n",
       "d8d1b067-78bb-4db7-8f91-db2ff9a83ee5  0.491372           soilwork\n",
       "c14b4180-dc87-481e-b17a-64e4150f90f6  0.487088              opeth\n",
       "ac865b2e-bba8-4f5a-8756-dd40d5e39f46  0.471867               koЯn"
      ]
     },
     "metadata": {},
     "output_type": "display_data"
    },
    {
     "data": {
      "text/html": [
       "<div>\n",
       "<style scoped>\n",
       "    .dataframe tbody tr th:only-of-type {\n",
       "        vertical-align: middle;\n",
       "    }\n",
       "\n",
       "    .dataframe tbody tr th {\n",
       "        vertical-align: top;\n",
       "    }\n",
       "\n",
       "    .dataframe thead th {\n",
       "        text-align: right;\n",
       "    }\n",
       "</style>\n",
       "<table border=\"1\" class=\"dataframe\">\n",
       "  <thead>\n",
       "    <tr style=\"text-align: right;\">\n",
       "      <th></th>\n",
       "      <th>val</th>\n",
       "      <th>artistname</th>\n",
       "    </tr>\n",
       "  </thead>\n",
       "  <tbody>\n",
       "    <tr>\n",
       "      <th>f57e14e4-b030-467c-b202-539453f504ec</th>\n",
       "      <td>0.770965</td>\n",
       "      <td>children of bodom</td>\n",
       "    </tr>\n",
       "    <tr>\n",
       "      <th>d8d1b067-78bb-4db7-8f91-db2ff9a83ee5</th>\n",
       "      <td>0.632731</td>\n",
       "      <td>soilwork</td>\n",
       "    </tr>\n",
       "    <tr>\n",
       "      <th>9d30e408-1559-448b-b491-2f8de1583ccf</th>\n",
       "      <td>0.588746</td>\n",
       "      <td>dark tranquillity</td>\n",
       "    </tr>\n",
       "    <tr>\n",
       "      <th>4bb4e4e4-5f66-4509-98af-62dbb90c45c5</th>\n",
       "      <td>0.550149</td>\n",
       "      <td>disturbed</td>\n",
       "    </tr>\n",
       "    <tr>\n",
       "      <th>a466c2a2-6517-42fb-a160-1087c3bafd9f</th>\n",
       "      <td>0.545891</td>\n",
       "      <td>slipknot</td>\n",
       "    </tr>\n",
       "    <tr>\n",
       "      <th>ca891d65-d9b0-4258-89f7-e6ba29d83767</th>\n",
       "      <td>0.490609</td>\n",
       "      <td>iron maiden</td>\n",
       "    </tr>\n",
       "    <tr>\n",
       "      <th>e631bb92-3e2b-43e3-a2cb-b605e2fb53bd</th>\n",
       "      <td>0.474290</td>\n",
       "      <td>arch enemy</td>\n",
       "    </tr>\n",
       "    <tr>\n",
       "      <th>8295ee00-0096-461d-95c7-c2263d2a4c6d</th>\n",
       "      <td>0.473608</td>\n",
       "      <td>killswitch engage</td>\n",
       "    </tr>\n",
       "    <tr>\n",
       "      <th>65f4f0c5-ef9e-490c-aee3-909e7ae6b2ab</th>\n",
       "      <td>0.457083</td>\n",
       "      <td>metallica</td>\n",
       "    </tr>\n",
       "    <tr>\n",
       "      <th>ac865b2e-bba8-4f5a-8756-dd40d5e39f46</th>\n",
       "      <td>0.439152</td>\n",
       "      <td>koЯn</td>\n",
       "    </tr>\n",
       "  </tbody>\n",
       "</table>\n",
       "</div>"
      ],
      "text/plain": [
       "                                           val         artistname\n",
       "f57e14e4-b030-467c-b202-539453f504ec  0.770965  children of bodom\n",
       "d8d1b067-78bb-4db7-8f91-db2ff9a83ee5  0.632731           soilwork\n",
       "9d30e408-1559-448b-b491-2f8de1583ccf  0.588746  dark tranquillity\n",
       "4bb4e4e4-5f66-4509-98af-62dbb90c45c5  0.550149          disturbed\n",
       "a466c2a2-6517-42fb-a160-1087c3bafd9f  0.545891           slipknot\n",
       "ca891d65-d9b0-4258-89f7-e6ba29d83767  0.490609        iron maiden\n",
       "e631bb92-3e2b-43e3-a2cb-b605e2fb53bd  0.474290         arch enemy\n",
       "8295ee00-0096-461d-95c7-c2263d2a4c6d  0.473608  killswitch engage\n",
       "65f4f0c5-ef9e-490c-aee3-909e7ae6b2ab  0.457083          metallica\n",
       "ac865b2e-bba8-4f5a-8756-dd40d5e39f46  0.439152               koЯn"
      ]
     },
     "metadata": {},
     "output_type": "display_data"
    }
   ],
   "source": [
    "mbid = mbid_to_artist[mbid_to_artist['artistname'] == 'in flames'].index[0]\n",
    "display(crosstab_norm_min_scaled[mbid].sort_values(ascending=False).head(10).to_frame(name = 'val').join(mbid_to_artist))\n",
    "display(crosstab_alt_norm_scaled[mbid].sort_values(ascending=False).head(10).to_frame(name = 'val').join(mbid_to_artist))"
   ]
  },
  {
   "cell_type": "code",
   "execution_count": 83,
   "metadata": {},
   "outputs": [
    {
     "name": "stderr",
     "output_type": "stream",
     "text": [
      "Stacking alt co-occurrences\n",
      "Alt co-occurrences stacked\n"
     ]
    }
   ],
   "source": [
    "logger.info('Stacking alt co-occurrences')\n",
    "\n",
    "crosstab_alt_norm_scaled = crosstab_alt_norm_scaled.where(~np.triu(np.ones(crosstab_alt_norm_scaled.shape)).astype(np.bool))\n",
    "crosstab_alt_norm_scaled_stack = crosstab_alt_norm_scaled.stack()\n",
    "\n",
    "logger.info('Alt co-occurrences stacked')"
   ]
  },
  {
   "cell_type": "code",
   "execution_count": 84,
   "metadata": {},
   "outputs": [
    {
     "name": "stderr",
     "output_type": "stream",
     "text": [
      "Stacking alt dataset into train/dev/test sets\n"
     ]
    }
   ],
   "source": [
    "logger.info('Stacking alt dataset into train/dev/test sets')\n",
    "\n",
    "train_alt, devtest_alt = train_test_split(crosstab_alt_norm_scaled_stack, test_size=0.02, random_state = 1)\n",
    "dev_alt, test_alt = train_test_split(devtest_alt, test_size=0.5, random_state = 2)"
   ]
  },
  {
   "cell_type": "code",
   "execution_count": 85,
   "metadata": {},
   "outputs": [
    {
     "name": "stderr",
     "output_type": "stream",
     "text": [
      "Total alt dataset size: 474825\n",
      "Alt training set size: 465328\n",
      "Alt dev set size: 4748\n",
      "Alt test set size: 4749\n"
     ]
    }
   ],
   "source": [
    "logger.info('Total alt dataset size: {}'.format(len(crosstab_alt_norm_scaled_stack)))\n",
    "logger.info('Alt training set size: {}'.format(len(train_alt)))\n",
    "logger.info('Alt dev set size: {}'.format(len(dev_alt)))\n",
    "logger.info('Alt test set size: {}'.format(len(test_alt)))"
   ]
  },
  {
   "cell_type": "code",
   "execution_count": 86,
   "metadata": {},
   "outputs": [
    {
     "name": "stderr",
     "output_type": "stream",
     "text": [
      "Saving split alt dataset\n",
      "Split alt dataset saved\n"
     ]
    }
   ],
   "source": [
    "logger.info('Saving split alt dataset')\n",
    "\n",
    "# Save all to HDF5 files\n",
    "train_alt.to_hdf('dataset/train_alt.hd5', key='artists')\n",
    "dev_alt.to_hdf('dataset/dev_alt.hd5', key='artists')\n",
    "test_alt.to_hdf('dataset/test_alt.hd5', key='artists')\n",
    "\n",
    "logger.info('Split alt dataset saved')"
   ]
  }
 ],
 "metadata": {
  "kernelspec": {
   "display_name": "Python 3",
   "language": "python",
   "name": "python3"
  },
  "language_info": {
   "codemirror_mode": {
    "name": "ipython",
    "version": 3
   },
   "file_extension": ".py",
   "mimetype": "text/x-python",
   "name": "python",
   "nbconvert_exporter": "python",
   "pygments_lexer": "ipython3",
   "version": "3.6.5"
  }
 },
 "nbformat": 4,
 "nbformat_minor": 2
}
