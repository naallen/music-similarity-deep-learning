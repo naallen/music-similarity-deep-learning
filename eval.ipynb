{
 "cells": [
  {
   "cell_type": "markdown",
   "metadata": {},
   "source": [
    "# Evaluation Notebook\n",
    "\n",
    "This notebook evaluates the performance of the generated model"
   ]
  },
  {
   "cell_type": "code",
   "execution_count": 68,
   "metadata": {},
   "outputs": [],
   "source": [
    "from keras.models import load_model\n",
    "from utils import make_logger\n",
    "import pickle\n",
    "import matplotlib \n",
    "import matplotlib.pyplot as plt\n",
    "import os\n",
    "import numpy as np\n",
    "import pandas as pd\n",
    "from collections import defaultdict\n",
    "from tqdm import tqdm_notebook\n",
    "import glob\n",
    "import itertools\n",
    "from PIL import Image\n",
    "import difflib\n",
    "\n",
    "logger = make_logger('eval', 'log/eval.log')\n",
    "models_path = os.path.join('models', 'full')"
   ]
  },
  {
   "cell_type": "markdown",
   "metadata": {},
   "source": [
    "## Plot Train and Test Loss\n",
    "\n",
    "Load the model and plot losses against epoch."
   ]
  },
  {
   "cell_type": "code",
   "execution_count": 17,
   "metadata": {},
   "outputs": [
    {
     "name": "stderr",
     "output_type": "stream",
     "text": [
      "Plotting Losses\n"
     ]
    },
    {
     "data": {
      "image/png": "[encoded data removed]",
      "text/plain": [
       "<Figure size 432x288 with 1 Axes>"
      ]
     },
     "metadata": {},
     "output_type": "display_data"
    },
    {
     "name": "stderr",
     "output_type": "stream",
     "text": [
      "Plotted Losses\n"
     ]
    }
   ],
   "source": [
    "logger.info(\"Plotting Losses\")\n",
    "\n",
    "history = pickle.load(open(os.path.join(models_path, 'history'), \"rb\"))\n",
    "fig, ax = plt.subplots()\n",
    "ax.plot(history['val_loss'], label=\"Test Loss\")\n",
    "ax.plot(history['loss'], label=\"Train Loss\")\n",
    "ax.set_ylabel('Mean Sq. Error')\n",
    "ax.set_xlabel('Epoch')\n",
    "ax.legend(loc='upper right')\n",
    "plt.show()\n",
    "\n",
    "logger.info(\"Plotted Losses\")"
   ]
  },
  {
   "cell_type": "markdown",
   "metadata": {},
   "source": [
    "## Define accuracy metric\n",
    "\n",
    "For my accuracy metric, I get the top similar artists for each artist from the original dataset, then to calculate accuracy of the model, I use the model to calculate all pairwise similarity scores and get the top predicted similar artists. Then I compare the two using edit distance, and return the average value as an accuracy.\n",
    "\n",
    "Calculating accuracy like this is slow because you pretty much have to go through a full epoch. It's probably only useful at the end of training.\n",
    "\n",
    "There are two accuracy metrics I use, all of which mean slightly different things:\n",
    "\n",
    "`compare_accuracy_edit_dist` compares the top n artists in each dataframe by edit distance, and returns it as a proportion to the maximum edit distance possible (i.e. n)\n",
    "\n",
    "`compare_accuracy_unordered` compares how many of the top n artists are shared between both dataframes, disregarding order, as a proportion of n. "
   ]
  },
  {
   "cell_type": "code",
   "execution_count": 101,
   "metadata": {},
   "outputs": [],
   "source": [
    "def similarity_matrix_to_top(matrix):\n",
    "    # Converts a similarity score matrix to a sorted table of most similar artists\n",
    "    most_similar = np.argsort(-matrix.values, axis=1)\n",
    "    return pd.DataFrame(most_similar, index=matrix.index).T\n",
    "\n",
    "def eval_artist_similarity(artist_A, artist_B, model):\n",
    "    # Collect all pairwise combinations of artist tracks, evaluates the model on them, then\n",
    "    # returns the similarity as an average of all the predictions\n",
    "    audio_A = images[artist_A]\n",
    "    audio_B = images[artist_B]\n",
    "    \n",
    "    X_tmp = [list(), list()]\n",
    "    for pair in itertools.product(audio_A, audio_B):\n",
    "        X_tmp[0].append(pair[0])\n",
    "        X_tmp[1].append(pair[1])\n",
    "    \n",
    "    return np.mean(model.predict(X_tmp))\n",
    "\n",
    "def eval_artist_baseline(artist_A, artist_B):\n",
    "    # Similar to above, but using baseline evaluation of taking L2 distance between\n",
    "    # spectrograms and averaging\n",
    "    audio_A = images[artist_A]\n",
    "    audio_B = images[artist_B]\n",
    "    \n",
    "    dist = []\n",
    "    for pair in itertools.product(audio_A, audio_B):\n",
    "        dist.append(np.linalg.norm(pair[0]-pair[1]))\n",
    "    \n",
    "    return -np.mean(np.array(dist))\n",
    "\n",
    "def create_similarity_matrix(artists, model, all_artists = None, baseline = False):\n",
    "    # Creates a similarity matrix for a list of artists, using a given model to predict similarity\n",
    "    if all_artists is None:\n",
    "        all_artists = artists\n",
    "    df = pd.DataFrame(np.full((len(artists), len(all_artists)), np.nan), columns = all_artists, index = artists)\n",
    "    for artist_A, artist_B in tqdm_notebook(list(itertools.product(all_artists, artists))):\n",
    "        if artist_A != artist_B:\n",
    "            if baseline:\n",
    "                sim = eval_artist_baseline(artist_A, artist_B)\n",
    "            else:\n",
    "                sim = eval_artist_similarity(artist_A, artist_B, model)\n",
    "            df[artist_A][artist_B] = sim\n",
    "    return df\n",
    "\n",
    "def compare_accuracy_edit_dist(df1, df2, n=10):\n",
    "    # Compares accuracy of two similarity ranking dataframes using edit distance, comparing the top n ranked\n",
    "    # similar artists\n",
    "    distances = dict()\n",
    "    for column in df1:\n",
    "        distances[column] = difflib.SequenceMatcher(None, df1.head(n)[column], df2.head(n)[column]).ratio()\n",
    "    return np.mean(np.array(list(distances.values()))), distances\n",
    "\n",
    "def compare_accuracy_unordered(df1, df2, n=10):\n",
    "    # Compares accuracy of two similarity ranking dataframes by looking at the size of the unordered union of sets,\n",
    "    # comparing the top n ranked similar artists\n",
    "    distances = dict()\n",
    "    for column in df1:\n",
    "        distances[column] = len(set(df1.head(n)[column].values).intersection(df2.head(n)[column].values))\\\n",
    "            / len(df1.head(n)[column])\n",
    "    return np.mean(np.array(list(distances.values()))), distances"
   ]
  },
  {
   "cell_type": "markdown",
   "metadata": {},
   "source": [
    "## Load the training and test sets and images\n",
    "\n",
    "Creates a dict relating artist MBIDs to spectrogram images, represented as 128x128x1 arrays of floats. Also load the previously saved database of artist relationships."
   ]
  },
  {
   "cell_type": "code",
   "execution_count": 29,
   "metadata": {},
   "outputs": [
    {
     "name": "stderr",
     "output_type": "stream",
     "text": [
      "Loading images\n"
     ]
    },
    {
     "data": {
      "application/vnd.jupyter.widget-view+json": {
       "model_id": "1486f2d6e83747c599b102fa081ad818",
       "version_major": 2,
       "version_minor": 0
      },
      "text/plain": [
       "HBox(children=(IntProgress(value=0, max=2791), HTML(value='')))"
      ]
     },
     "metadata": {},
     "output_type": "display_data"
    },
    {
     "name": "stderr",
     "output_type": "stream",
     "text": [
      "Loaded images\n"
     ]
    },
    {
     "name": "stdout",
     "output_type": "stream",
     "text": [
      "\n"
     ]
    }
   ],
   "source": [
    "logger.info('Loading images')\n",
    "\n",
    "images = defaultdict(list)\n",
    "\n",
    "for path in tqdm_notebook(glob.glob('tracks/**/*.png', recursive=True)):\n",
    "    mbid = os.path.basename(path).rsplit('-', 1)[0]\n",
    "    img = np.rot90(np.array(Image.open(path).convert('L')) / 255)\n",
    "    #img = np.reshape(img, img.shape + (1,))\n",
    "    images[mbid].append(img)\n",
    "    \n",
    "logger.info('Loaded images')"
   ]
  },
  {
   "cell_type": "code",
   "execution_count": 80,
   "metadata": {},
   "outputs": [
    {
     "name": "stderr",
     "output_type": "stream",
     "text": [
      "Loading training set\n",
      "Loaded training set\n",
      "Loading test set\n",
      "Loaded test set\n"
     ]
    }
   ],
   "source": [
    "logger.info('Loading training set')\n",
    "\n",
    "train_set = pd.read_hdf('dataset/train_min.hd5', key='artists')\n",
    "\n",
    "logger.info('Loaded training set')\n",
    "\n",
    "logger.info('Loading test set')\n",
    "\n",
    "test_set = pd.read_hdf('dataset/test_min.hd5', key='artists')\n",
    "\n",
    "logger.info('Loaded test set')"
   ]
  },
  {
   "cell_type": "code",
   "execution_count": 31,
   "metadata": {},
   "outputs": [
    {
     "name": "stderr",
     "output_type": "stream",
     "text": [
      "Artists in images: 975\n",
      "Training set length: 877\n",
      "Test set length: 975\n"
     ]
    }
   ],
   "source": [
    "logger.info('Artists in images: {}'.format(len(images)))\n",
    "logger.info('Training set length: {}'.format(len(train_set)))\n",
    "logger.info('Test set length: {}'.format(len(test_set)))"
   ]
  },
  {
   "cell_type": "markdown",
   "metadata": {},
   "source": [
    "## Create train/test datasets relating image references to values\n",
    "\n",
    "Previously, we had the large raw dataset which is of the form `df[artistA][artistB]=similarity`. Here, we create X and Y arrays, with the X array being a list of two arrays, each containing references to one of the spectrogram images that was loaded for a given artist. The Y array is a list containing the similarity scores for the corresponding two artists."
   ]
  },
  {
   "cell_type": "code",
   "execution_count": 35,
   "metadata": {},
   "outputs": [
    {
     "name": "stderr",
     "output_type": "stream",
     "text": [
      "Re-formatting datasets for training\n"
     ]
    },
    {
     "data": {
      "application/vnd.jupyter.widget-view+json": {
       "model_id": "a82ca0ddcd274de7ba36f9366fecd7a2",
       "version_major": 2,
       "version_minor": 0
      },
      "text/plain": [
       "HBox(children=(IntProgress(value=0, max=384126), HTML(value='')))"
      ]
     },
     "metadata": {},
     "output_type": "display_data"
    },
    {
     "name": "stdout",
     "output_type": "stream",
     "text": [
      "\n"
     ]
    },
    {
     "data": {
      "application/vnd.jupyter.widget-view+json": {
       "model_id": "ea04c21942a64aa9a35c5d0aec5243a0",
       "version_major": 2,
       "version_minor": 0
      },
      "text/plain": [
       "HBox(children=(IntProgress(value=0, max=46504), HTML(value='')))"
      ]
     },
     "metadata": {},
     "output_type": "display_data"
    },
    {
     "name": "stderr",
     "output_type": "stream",
     "text": [
      "Datasets formatted\n"
     ]
    },
    {
     "name": "stdout",
     "output_type": "stream",
     "text": [
      "\n"
     ]
    }
   ],
   "source": [
    "logger.info('Re-formatting datasets for training')\n",
    "\n",
    "train_dedup = train_set.where(~np.triu(np.ones(train_set.shape)).astype(np.bool))\n",
    "train_stacked = train_dedup.stack()\n",
    "\n",
    "test_set.index = test_set.columns.append(test_set.columns.append(test_set.index).drop_duplicates(keep=False))\n",
    "test_dedup = test_set.where(~np.triu(np.ones(test_set.shape)).astype(np.bool))\n",
    "test_stacked = test_dedup.stack()\n",
    "\n",
    "def format_dataset(raw_dataset):\n",
    "    X_1 = []\n",
    "    X_2 = []\n",
    "    Y = []\n",
    "    \n",
    "    for index, value in tqdm_notebook(raw_dataset.iteritems(), total = len(raw_dataset)):\n",
    "        artist_A = index[0]\n",
    "        artist_B = index[1]\n",
    "        audio_A = images[artist_A]\n",
    "        audio_B = images[artist_B]\n",
    "\n",
    "        for pair in itertools.product(audio_A, audio_B):\n",
    "            X_1.append(pair[0])\n",
    "            X_2.append(pair[1])\n",
    "            Y.append(value)\n",
    "\n",
    "    Y = np.array(Y)\n",
    "    X = [X_1, X_2]\n",
    "    return X, Y\n",
    "\n",
    "X_train, Y_train = format_dataset(train_stacked)\n",
    "X_test, Y_test = format_dataset(test_stacked)\n",
    "\n",
    "logger.info('Datasets formatted')"
   ]
  },
  {
   "cell_type": "markdown",
   "metadata": {},
   "source": [
    "## Generate Similarity and Rank Matrices for Test Set\n",
    "\n",
    "First we load the model that we trained earlier. Then, using the trained model, we generate a similarity matrix for the artists test set, and use it to evaluate the performance of the model. We also define matrices for the baseline and original test sets to use with our similarity metrics."
   ]
  },
  {
   "cell_type": "code",
   "execution_count": 37,
   "metadata": {},
   "outputs": [
    {
     "name": "stderr",
     "output_type": "stream",
     "text": [
      "Loading model\n",
      "Loaded model\n"
     ]
    }
   ],
   "source": [
    "logger.info('Loading model')\n",
    "\n",
    "model = load_model(os.path.join(models_path, \"post_train_model.hd5\"))\n",
    "\n",
    "logger.info('Loaded model')"
   ]
  },
  {
   "cell_type": "code",
   "execution_count": 71,
   "metadata": {},
   "outputs": [
    {
     "name": "stderr",
     "output_type": "stream",
     "text": [
      "Generating similarity matrix\n"
     ]
    },
    {
     "data": {
      "application/vnd.jupyter.widget-view+json": {
       "model_id": "61f6e21688d34011b713c5d649845f55",
       "version_major": 2,
       "version_minor": 0
      },
      "text/plain": [
       "HBox(children=(IntProgress(value=0, max=2401), HTML(value='')))"
      ]
     },
     "metadata": {},
     "output_type": "display_data"
    },
    {
     "name": "stdout",
     "output_type": "stream",
     "text": [
      "\n"
     ]
    },
    {
     "data": {
      "application/vnd.jupyter.widget-view+json": {
       "model_id": "bc93c3a4030745c6b045a8a179c26b34",
       "version_major": 2,
       "version_minor": 0
      },
      "text/plain": [
       "HBox(children=(IntProgress(value=0, max=2401), HTML(value='')))"
      ]
     },
     "metadata": {},
     "output_type": "display_data"
    },
    {
     "name": "stderr",
     "output_type": "stream",
     "text": [
      "Generated similarity matrix\n"
     ]
    },
    {
     "name": "stdout",
     "output_type": "stream",
     "text": [
      "\n"
     ]
    }
   ],
   "source": [
    "logger.info('Generating similarity matrix')\n",
    "\n",
    "sim_matrix = create_similarity_matrix(test_set.columns, model)\n",
    "baseline_sim_matrix = create_similarity_matrix(test_set.columns, model, baseline = True)\n",
    "\n",
    "logger.info('Generated similarity matrix')"
   ]
  },
  {
   "cell_type": "code",
   "execution_count": 102,
   "metadata": {},
   "outputs": [
    {
     "name": "stderr",
     "output_type": "stream",
     "text": [
      "Building ranked matrices\n"
     ]
    },
    {
     "data": {
      "application/vnd.jupyter.widget-view+json": {
       "model_id": "077e4aeb4c1e4ab292435e05a3ce7303",
       "version_major": 2,
       "version_minor": 0
      },
      "text/plain": [
       "HBox(children=(IntProgress(value=0, max=2401), HTML(value='')))"
      ]
     },
     "metadata": {},
     "output_type": "display_data"
    },
    {
     "name": "stderr",
     "output_type": "stream",
     "text": [
      "Built ranked matrices\n"
     ]
    },
    {
     "name": "stdout",
     "output_type": "stream",
     "text": [
      "\n"
     ]
    }
   ],
   "source": [
    "logger.info('Building ranked matrices')\n",
    "\n",
    "model_ranked_matrix = similarity_matrix_to_top(sim_matrix)\n",
    "baseline_ranked_matrix = similarity_matrix_to_top(baseline_sim_matrix)\n",
    "truth_ranked_matrix = similarity_matrix_to_top(test_set.T[test_set.columns])\n",
    "\n",
    "logger.info('Built ranked matrices')"
   ]
  },
  {
   "cell_type": "markdown",
   "metadata": {},
   "source": [
    "## Evaluate Accuracy \n",
    "\n",
    "Evaluates accuracy against the baseline, and where possible, random ordering, for a set of top similar artists per artist (top 3, 5, 10, and 25)."
   ]
  },
  {
   "cell_type": "code",
   "execution_count": 103,
   "metadata": {},
   "outputs": [
    {
     "name": "stderr",
     "output_type": "stream",
     "text": [
      "n = 3\n",
      "Unordered distance; model: 0.1292517006802721, baseline: 0.07482993197278912, random: 0.061224489795918366\n",
      "Edit distance; model: 0.12244897959183672, baseline: 0.07482993197278912\n",
      "n = 5\n",
      "Unordered distance; model: 0.17959183673469387, baseline: 0.13877551020408166, random: 0.10204081632653061\n",
      "Edit distance; model: 0.1469387755102041, baseline: 0.11428571428571428\n",
      "n = 10\n",
      "Unordered distance; model: 0.3163265306122449, baseline: 0.30204081632653057, random: 0.20408163265306123\n",
      "Edit distance; model: 0.1795918367346939, baseline: 0.16530612244897958\n",
      "n = 25\n",
      "Unordered distance; model: 0.5730612244897959, baseline: 0.5542857142857143, random: 0.5102040816326531\n",
      "Edit distance; model: 0.16326530612244897, baseline: 0.1542857142857143\n"
     ]
    }
   ],
   "source": [
    "accs = [3, 5, 10, 25]\n",
    "\n",
    "for acc in accs:\n",
    "    model_unordered = compare_accuracy_unordered(model_ranked_matrix, truth_ranked_matrix, n=acc)[0]\n",
    "    model_edit_dist = compare_accuracy_edit_dist(model_ranked_matrix, truth_ranked_matrix, n=acc)[0]\n",
    "    baseline_unordered = compare_accuracy_unordered(baseline_ranked_matrix, truth_ranked_matrix, n=acc)[0]\n",
    "    baseline_edit_dist = compare_accuracy_edit_dist(baseline_ranked_matrix, truth_ranked_matrix, n=acc)[0]\n",
    "    logger.info(\"n = {}\".format(acc))\n",
    "    logger.info(\"Unordered distance; model: {}, baseline: {}, random: {}\".format(model_unordered, baseline_unordered, \n",
    "                                                                                 acc / model_ranked_matrix.shape[0]))\n",
    "    logger.info(\"Edit distance; model: {}, baseline: {}\".format(model_edit_dist, baseline_edit_dist))"
   ]
  },
  {
   "cell_type": "markdown",
   "metadata": {},
   "source": [
    "## Test Early Stopping Model\n",
    "\n",
    "The model at epoch 5 seemed to perform better, perhaps due to overfitting. Let's load and test that model instead."
   ]
  },
  {
   "cell_type": "code",
   "execution_count": 108,
   "metadata": {},
   "outputs": [
    {
     "name": "stderr",
     "output_type": "stream",
     "text": [
      "Loading epoch 5 model\n",
      "Loaded epoch 5 model\n"
     ]
    }
   ],
   "source": [
    "logger.info('Loading epoch 5 model')\n",
    "\n",
    "e5_model = load_model(os.path.join(models_path, \"model-05-0.004.hdf5\"))\n",
    "\n",
    "logger.info('Loaded epoch 5 model')"
   ]
  },
  {
   "cell_type": "code",
   "execution_count": 109,
   "metadata": {},
   "outputs": [
    {
     "name": "stderr",
     "output_type": "stream",
     "text": [
      "Generating similarity matrix\n"
     ]
    },
    {
     "data": {
      "application/vnd.jupyter.widget-view+json": {
       "model_id": "94abe560cb114940baff53e57e061844",
       "version_major": 2,
       "version_minor": 0
      },
      "text/plain": [
       "HBox(children=(IntProgress(value=0, max=2401), HTML(value='')))"
      ]
     },
     "metadata": {},
     "output_type": "display_data"
    },
    {
     "name": "stderr",
     "output_type": "stream",
     "text": [
      "Generated similarity matrix\n"
     ]
    },
    {
     "name": "stdout",
     "output_type": "stream",
     "text": [
      "\n"
     ]
    }
   ],
   "source": [
    "logger.info('Generating similarity matrix')\n",
    "\n",
    "e5_sim_matrix = create_similarity_matrix(test_set.columns, e5_model)\n",
    "\n",
    "logger.info('Generated similarity matrix')"
   ]
  },
  {
   "cell_type": "code",
   "execution_count": 110,
   "metadata": {},
   "outputs": [
    {
     "name": "stderr",
     "output_type": "stream",
     "text": [
      "Building ranked matrices\n",
      "Built ranked matrices\n"
     ]
    }
   ],
   "source": [
    "logger.info('Building ranked matrices')\n",
    "\n",
    "e5_model_ranked_matrix = similarity_matrix_to_top(e5_sim_matrix)\n",
    "\n",
    "logger.info('Built ranked matrices')"
   ]
  },
  {
   "cell_type": "code",
   "execution_count": 111,
   "metadata": {},
   "outputs": [
    {
     "name": "stderr",
     "output_type": "stream",
     "text": [
      "n = 3\n",
      "Unordered distance; model: 0.09523809523809523, baseline: 0.07482993197278912, random: 0.061224489795918366\n",
      "Edit distance; model: 0.08843537414965985, baseline: 0.07482993197278912\n",
      "n = 5\n",
      "Unordered distance; model: 0.18775510204081636, baseline: 0.13877551020408166, random: 0.10204081632653061\n",
      "Edit distance; model: 0.15918367346938778, baseline: 0.11428571428571428\n",
      "n = 10\n",
      "Unordered distance; model: 0.3551020408163265, baseline: 0.30204081632653057, random: 0.20408163265306123\n",
      "Edit distance; model: 0.19999999999999998, baseline: 0.16530612244897958\n",
      "n = 25\n",
      "Unordered distance; model: 0.5975510204081633, baseline: 0.5542857142857143, random: 0.5102040816326531\n",
      "Edit distance; model: 0.15020408163265306, baseline: 0.1542857142857143\n"
     ]
    }
   ],
   "source": [
    "accs = [3, 5, 10, 25]\n",
    "\n",
    "for acc in accs:\n",
    "    model_unordered = compare_accuracy_unordered(e5_model_ranked_matrix, truth_ranked_matrix, n=acc)[0]\n",
    "    model_edit_dist = compare_accuracy_edit_dist(e5_model_ranked_matrix, truth_ranked_matrix, n=acc)[0]\n",
    "    baseline_unordered = compare_accuracy_unordered(baseline_ranked_matrix, truth_ranked_matrix, n=acc)[0]\n",
    "    baseline_edit_dist = compare_accuracy_edit_dist(baseline_ranked_matrix, truth_ranked_matrix, n=acc)[0]\n",
    "    logger.info(\"n = {}\".format(acc))\n",
    "    logger.info(\"Unordered distance; model: {}, baseline: {}, random: {}\".format(model_unordered, baseline_unordered, \n",
    "                                                                                 acc / model_ranked_matrix.shape[0]))\n",
    "    logger.info(\"Edit distance; model: {}, baseline: {}\".format(model_edit_dist, baseline_edit_dist))"
   ]
  },
  {
   "cell_type": "code",
   "execution_count": null,
   "metadata": {},
   "outputs": [],
   "source": []
  }
 ],
 "metadata": {
  "kernelspec": {
   "display_name": "Environment (conda_tensorflow_p36)",
   "language": "python",
   "name": "conda_tensorflow_p36"
  },
  "language_info": {
   "codemirror_mode": {
    "name": "ipython",
    "version": 3
   },
   "file_extension": ".py",
   "mimetype": "text/x-python",
   "name": "python",
   "nbconvert_exporter": "python",
   "pygments_lexer": "ipython3",
   "version": "3.6.5"
  }
 },
 "nbformat": 4,
 "nbformat_minor": 2
}
